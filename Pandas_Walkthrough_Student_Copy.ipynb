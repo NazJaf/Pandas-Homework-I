{
 "cells": [
  {
   "cell_type": "markdown",
   "metadata": {},
   "source": [
    "# Data Science Pandas"
   ]
  },
  {
   "cell_type": "markdown",
   "metadata": {},
   "source": [
    "## Tasks Today:\n",
    "\n",
    "0) <b>Pre-Work</b> <br>\n",
    " &nbsp;&nbsp;&nbsp;&nbsp; a) Numpy Random Sampling\n",
    "\n",
    "1) <b>Pandas</b> <br>\n",
    " &nbsp;&nbsp;&nbsp;&nbsp; a) Importing <br>\n",
    " &nbsp;&nbsp;&nbsp;&nbsp; b) Tabular Data Structures <br>\n",
    " &nbsp;&nbsp;&nbsp;&nbsp;&nbsp;&nbsp;&nbsp;&nbsp; - from_dict() <br>\n",
    " &nbsp;&nbsp;&nbsp;&nbsp;&nbsp;&nbsp;&nbsp;&nbsp; - read_csv() <br>\n",
    " &nbsp;&nbsp;&nbsp;&nbsp; c) <b>In-Class Exercise #1</b> <br>\n",
    " &nbsp;&nbsp;&nbsp;&nbsp; d) Accessing Data <br>\n",
    " &nbsp;&nbsp;&nbsp;&nbsp;&nbsp;&nbsp;&nbsp;&nbsp; - Indexing <br>\n",
    " &nbsp;&nbsp;&nbsp;&nbsp;&nbsp;&nbsp;&nbsp;&nbsp; - df.loc <br>\n",
    " &nbsp;&nbsp;&nbsp;&nbsp;&nbsp;&nbsp;&nbsp;&nbsp; - keys() <br>\n",
    " &nbsp;&nbsp;&nbsp;&nbsp;&nbsp;&nbsp;&nbsp;&nbsp; - Slicing a DataFrame <br>\n",
    " &nbsp;&nbsp;&nbsp;&nbsp; e) Built-In Methods <br>\n",
    " &nbsp;&nbsp;&nbsp;&nbsp;&nbsp;&nbsp;&nbsp;&nbsp; - head() <br>\n",
    " &nbsp;&nbsp;&nbsp;&nbsp;&nbsp;&nbsp;&nbsp;&nbsp; - tail() <br>\n",
    " &nbsp;&nbsp;&nbsp;&nbsp;&nbsp;&nbsp;&nbsp;&nbsp; - shape <br>\n",
    " &nbsp;&nbsp;&nbsp;&nbsp;&nbsp;&nbsp;&nbsp;&nbsp; - describe() <br>\n",
    " &nbsp;&nbsp;&nbsp;&nbsp;&nbsp;&nbsp;&nbsp;&nbsp; - sort_values() <br>\n",
    " &nbsp;&nbsp;&nbsp;&nbsp;&nbsp;&nbsp;&nbsp;&nbsp; - .columns <br>\n",
    " &nbsp;&nbsp;&nbsp;&nbsp; f) <b>In-Class Exercise #2</b> <br>\n",
    " &nbsp;&nbsp;&nbsp;&nbsp; g) Filtration <br>\n",
    " &nbsp;&nbsp;&nbsp;&nbsp;&nbsp;&nbsp;&nbsp;&nbsp; - Conditionals <br>\n",
    " &nbsp;&nbsp;&nbsp;&nbsp;&nbsp;&nbsp;&nbsp;&nbsp; - Subsetting <br>\n",
    " &nbsp;&nbsp;&nbsp;&nbsp; h) Column Transformations <br>\n",
    " &nbsp;&nbsp;&nbsp;&nbsp;&nbsp;&nbsp;&nbsp;&nbsp; - Generating a New Column w/Data <br>\n",
    " &nbsp;&nbsp;&nbsp;&nbsp;&nbsp;&nbsp;&nbsp;&nbsp; - User Defined Function <br>\n",
    " &nbsp;&nbsp;&nbsp;&nbsp; i) Aggregations <br>\n",
    " &nbsp;&nbsp;&nbsp;&nbsp;&nbsp;&nbsp;&nbsp;&nbsp; - groupby() <br>\n",
    " &nbsp;&nbsp;&nbsp;&nbsp;&nbsp;&nbsp;&nbsp;&nbsp; - Type of groupby() <br>\n",
    " &nbsp;&nbsp;&nbsp;&nbsp;&nbsp;&nbsp;&nbsp;&nbsp; - mean() <br>\n",
    " &nbsp;&nbsp;&nbsp;&nbsp;&nbsp;&nbsp;&nbsp;&nbsp; - groupby() w/Multiple Columns <br>\n",
    " &nbsp;&nbsp;&nbsp;&nbsp;&nbsp;&nbsp;&nbsp;&nbsp; - drop_duplicates() <br>"
   ]
  },
  {
   "cell_type": "markdown",
   "metadata": {},
   "source": [
    "## Numpy Random Sampling"
   ]
  },
  {
   "cell_type": "code",
   "execution_count": 1,
   "metadata": {},
   "outputs": [],
   "source": [
    "import numpy as np\n",
    "\n"
   ]
  },
  {
   "cell_type": "markdown",
   "metadata": {},
   "source": [
    "## Pandas <br>\n",
    "\n",
    "<p>Pandas is a flexible data analysis library built on top of NumPy that is excellent for working with tabular data. It is currently the de-facto standard for Python-based data analysis, and fluency in Pandas will do wonders for your productivity and frankly your resume. It is one of the fastest ways of getting from zero to answer in existence. </p>\n",
    "\n",
    "<ul>\n",
    "    <li>Pandas is a Python module, written in C. The Pandas module is a high performance, highly efficient, and high level data analysis library. It allows us to work with large sets of data called dataframes.</li>\n",
    "    <li>Series is a one-dimensional labeled array capable of holding data of any type (integer, string, float, python objects, etc.)</li>\n",
    "    <li>Dataframe = Spreadsheet (has column headers, index, etc.)</li>\n",
    "</ul>\n"
   ]
  },
  {
   "cell_type": "markdown",
   "metadata": {},
   "source": [
    "### Importing"
   ]
  },
  {
   "cell_type": "code",
   "execution_count": 2,
   "metadata": {},
   "outputs": [
    {
     "name": "stdout",
     "output_type": "stream",
     "text": [
      "Requirement already satisfied: pandas in c:\\users\\zaur\\anaconda3\\lib\\site-packages (1.4.4)\n",
      "Requirement already satisfied: python-dateutil>=2.8.1 in c:\\users\\zaur\\anaconda3\\lib\\site-packages (from pandas) (2.8.2)\n",
      "Requirement already satisfied: numpy>=1.18.5 in c:\\users\\zaur\\anaconda3\\lib\\site-packages (from pandas) (1.21.5)\n",
      "Requirement already satisfied: pytz>=2020.1 in c:\\users\\zaur\\anaconda3\\lib\\site-packages (from pandas) (2022.1)\n",
      "Requirement already satisfied: six>=1.5 in c:\\users\\zaur\\anaconda3\\lib\\site-packages (from python-dateutil>=2.8.1->pandas) (1.16.0)\n"
     ]
    }
   ],
   "source": [
    "!pip install pandas"
   ]
  },
  {
   "cell_type": "code",
   "execution_count": 2,
   "metadata": {},
   "outputs": [],
   "source": [
    "import pandas as pd\n",
    "\n",
    "# always use pd, standard for data science"
   ]
  },
  {
   "cell_type": "markdown",
   "metadata": {},
   "source": [
    "### Tabular data structures <br>\n",
    "<p>The central object of study in Pandas is the DataFrame, which is a tabular data structure with rows and columns like an excel spreadsheet. The first point of discussion is the creation of dataframes both from native Python dictionaries, and text files through the Pandas I/O system.</p>"
   ]
  },
  {
   "cell_type": "code",
   "execution_count": 3,
   "metadata": {
    "scrolled": true
   },
   "outputs": [
    {
     "name": "stdout",
     "output_type": "stream",
     "text": [
      "     Name  Age         City\n",
      "0  Nazrin   25     San Jose\n",
      "1   Jafar   30  Los Angeles\n",
      "2    Jane   35    San Diego\n"
     ]
    }
   ],
   "source": [
    "\n",
    "\n",
    "\n",
    "data = {\n",
    "    'Name': ['Nazrin', 'Jafar', 'Jane'],\n",
    "    'Age': [25, 30, 35],\n",
    "    'City': ['San Jose', 'Los Angeles', 'San Diego']\n",
    "}\n",
    "\n",
    "\n",
    "df = pd.DataFrame(data)\n",
    "\n",
    "print(df)\n",
    "\n"
   ]
  },
  {
   "cell_type": "markdown",
   "metadata": {},
   "source": [
    "##### from_dict()\n",
    "\n",
    "<p>Let's convert our not-so-useful-for-analysis dict into a Pandas dataframe. We can use the from_dict function to do this easily using Pandas:</p>"
   ]
  },
  {
   "cell_type": "code",
   "execution_count": 4,
   "metadata": {
    "scrolled": false
   },
   "outputs": [
    {
     "data": {
      "text/html": [
       "<div>\n",
       "<style scoped>\n",
       "    .dataframe tbody tr th:only-of-type {\n",
       "        vertical-align: middle;\n",
       "    }\n",
       "\n",
       "    .dataframe tbody tr th {\n",
       "        vertical-align: top;\n",
       "    }\n",
       "\n",
       "    .dataframe thead th {\n",
       "        text-align: right;\n",
       "    }\n",
       "</style>\n",
       "<table border=\"1\" class=\"dataframe\">\n",
       "  <thead>\n",
       "    <tr style=\"text-align: right;\">\n",
       "      <th></th>\n",
       "      <th>Name</th>\n",
       "      <th>Age</th>\n",
       "      <th>City</th>\n",
       "    </tr>\n",
       "  </thead>\n",
       "  <tbody>\n",
       "    <tr>\n",
       "      <th>0</th>\n",
       "      <td>Nazrin</td>\n",
       "      <td>25</td>\n",
       "      <td>San Jose</td>\n",
       "    </tr>\n",
       "    <tr>\n",
       "      <th>1</th>\n",
       "      <td>Jafar</td>\n",
       "      <td>30</td>\n",
       "      <td>Los Angeles</td>\n",
       "    </tr>\n",
       "    <tr>\n",
       "      <th>2</th>\n",
       "      <td>Jane</td>\n",
       "      <td>35</td>\n",
       "      <td>San Diego</td>\n",
       "    </tr>\n",
       "  </tbody>\n",
       "</table>\n",
       "</div>"
      ],
      "text/plain": [
       "     Name  Age         City\n",
       "0  Nazrin   25     San Jose\n",
       "1   Jafar   30  Los Angeles\n",
       "2    Jane   35    San Diego"
      ]
     },
     "execution_count": 4,
     "metadata": {},
     "output_type": "execute_result"
    }
   ],
   "source": [
    "pd.DataFrame.from_dict(data, orient='columns', dtype=None, columns=None)\n"
   ]
  },
  {
   "cell_type": "markdown",
   "metadata": {},
   "source": [
    "##### read_csv()"
   ]
  },
  {
   "cell_type": "code",
   "execution_count": 5,
   "metadata": {
    "scrolled": true
   },
   "outputs": [],
   "source": [
    "file_path = 'C:\\\\Users\\\\Zaur\\\\Downloads\\\\boston_marathon2017_edited - boston_marathon2017_edited.csv'\n",
    "\n"
   ]
  },
  {
   "cell_type": "markdown",
   "metadata": {},
   "source": [
    "### In-Class Exercise #1 - Read in Boston Red Sox Hitting Data <br>\n",
    "<p>Use the pandas read_csv() method to read in the statistics from the two files yesterday.</p>"
   ]
  },
  {
   "cell_type": "code",
   "execution_count": 6,
   "metadata": {},
   "outputs": [
    {
     "name": "stdout",
     "output_type": "stream",
     "text": [
      "                      10K                     15K                    20K  \\\n",
      "0  12/30/1899 12:30:28 AM  12/30/1899 12:45:44 AM  12/30/1899 1:01:15 AM   \n",
      "1  12/30/1899 12:30:27 AM  12/30/1899 12:45:44 AM  12/30/1899 1:01:15 AM   \n",
      "2  12/30/1899 12:30:29 AM  12/30/1899 12:45:44 AM  12/30/1899 1:01:16 AM   \n",
      "3  12/30/1899 12:30:29 AM  12/30/1899 12:45:44 AM  12/30/1899 1:01:19 AM   \n",
      "4  12/30/1899 12:30:28 AM  12/30/1899 12:45:44 AM  12/30/1899 1:01:15 AM   \n",
      "\n",
      "                     25K                    30K                    35K  \\\n",
      "0  12/30/1899 1:16:59 AM  12/30/1899 1:33:01 AM  12/30/1899 1:48:19 AM   \n",
      "1  12/30/1899 1:16:59 AM  12/30/1899 1:33:01 AM  12/30/1899 1:48:19 AM   \n",
      "2  12/30/1899 1:17:00 AM  12/30/1899 1:33:01 AM  12/30/1899 1:48:31 AM   \n",
      "3  12/30/1899 1:17:00 AM  12/30/1899 1:33:01 AM  12/30/1899 1:48:58 AM   \n",
      "4  12/30/1899 1:16:59 AM  12/30/1899 1:33:01 AM  12/30/1899 1:48:41 AM   \n",
      "\n",
      "                     40K                      5K  Age   Bib  ...  Division  \\\n",
      "0  12/30/1899 2:02:53 AM  12/30/1899 12:15:25 AM   24  11.0  ...         1   \n",
      "1  12/30/1899 2:03:14 AM  12/30/1899 12:15:24 AM   30  17.0  ...         2   \n",
      "2  12/30/1899 2:03:38 AM  12/30/1899 12:15:25 AM   25  23.0  ...         3   \n",
      "3  12/30/1899 2:04:35 AM  12/30/1899 12:15:25 AM   32  21.0  ...         4   \n",
      "4  12/30/1899 2:05:00 AM  12/30/1899 12:15:25 AM   31   9.0  ...         5   \n",
      "\n",
      "  Gender                   Half  M/F              Name Number of Records  \\\n",
      "0      1  12/30/1899 1:04:35 AM    M   Kirui, Geoffrey                 1   \n",
      "1      2  12/30/1899 1:04:35 AM    M       Rupp, Galen                 1   \n",
      "2      3  12/30/1899 1:04:36 AM    M     Osako, Suguru                 1   \n",
      "3      4  12/30/1899 1:04:45 AM    M  Biwott, Shadrack                 1   \n",
      "4      5  12/30/1899 1:04:35 AM    M    Chebet, Wilson                 1   \n",
      "\n",
      "           Official Time  Overall                    Pace State  \n",
      "0  12/30/1899 2:09:37 AM        1  12/30/1899 12:04:57 AM   NaN  \n",
      "1  12/30/1899 2:09:58 AM        2  12/30/1899 12:04:58 AM    OR  \n",
      "2  12/30/1899 2:10:28 AM        3  12/30/1899 12:04:59 AM   NaN  \n",
      "3  12/30/1899 2:12:08 AM        4  12/30/1899 12:05:03 AM    CA  \n",
      "4  12/30/1899 2:12:35 AM        5  12/30/1899 12:05:04 AM   NaN  \n",
      "\n",
      "[5 rows x 26 columns]\n"
     ]
    }
   ],
   "source": [
    "file_path = 'C:\\\\Users\\\\Zaur\\\\Downloads\\\\boston_marathon2017_edited - boston_marathon2017_edited.csv'\n",
    "\n",
    "df = pd.read_csv(file_path)\n",
    "\n",
    "print(df.head())"
   ]
  },
  {
   "cell_type": "markdown",
   "metadata": {},
   "source": [
    "### Accessing Data <br>"
   ]
  },
  {
   "cell_type": "markdown",
   "metadata": {},
   "source": [
    "##### Indexing\n",
    "\n",
    "<p>You can directly select a column of a dataframe just like you would a dict. The result is a Pandas 'Series' object.</p>"
   ]
  },
  {
   "cell_type": "code",
   "execution_count": 22,
   "metadata": {},
   "outputs": [
    {
     "name": "stdout",
     "output_type": "stream",
     "text": [
      "Index(['10K', '15K', '20K', '25K', '30K', '35K', '40K', '5K', 'Age', 'Bib',\n",
      "       'Overall Time in Seconds', 'Citizenship', 'Male Average Times',\n",
      "       'Females Average Times', 'City', 'Country', 'Division', 'Gender',\n",
      "       'Half', 'M/F', 'Name', 'Number of Records', 'Official Time', 'Overall',\n",
      "       'Pace', 'State'],\n",
      "      dtype='object')\n",
      "0        12/30/1899 12:30:28 AM\n",
      "1        12/30/1899 12:30:27 AM\n",
      "2        12/30/1899 12:30:29 AM\n",
      "3        12/30/1899 12:30:29 AM\n",
      "4        12/30/1899 12:30:28 AM\n",
      "                  ...          \n",
      "26405     12/30/1899 1:35:41 AM\n",
      "26406     12/30/1899 1:05:33 AM\n",
      "26407     12/30/1899 1:43:36 AM\n",
      "26408     12/30/1899 1:27:19 AM\n",
      "26409     12/30/1899 1:17:12 AM\n",
      "Name: 10K, Length: 26410, dtype: object\n"
     ]
    }
   ],
   "source": [
    "column_names = df.columns\n",
    "print(column_names)\n",
    "column_10K=df['10K']\n",
    "print(column_10K)"
   ]
  },
  {
   "cell_type": "markdown",
   "metadata": {},
   "source": [
    "##### df.loc"
   ]
  },
  {
   "cell_type": "markdown",
   "metadata": {},
   "source": [
    "<p>Along the horizontal dimension, rows of Pandas DataFrames are Row objects. You will notice there is a third column present in the DataFrame - this is the $\\textit{index}$. It is automatically generated as a row number, but can be reassigned to a column of your choice using the DataFrame.set_index(colname) method. We can use it to access particular Pandas $\\textit{rows}$, which are also Series objects:</p>"
   ]
  },
  {
   "cell_type": "code",
   "execution_count": 30,
   "metadata": {},
   "outputs": [
    {
     "name": "stdout",
     "output_type": "stream",
     "text": [
      "10K                        12/30/1899 12:30:27 AM\n",
      "15K                        12/30/1899 12:45:44 AM\n",
      "20K                         12/30/1899 1:01:15 AM\n",
      "25K                         12/30/1899 1:16:59 AM\n",
      "30K                         12/30/1899 1:33:01 AM\n",
      "35K                         12/30/1899 1:48:19 AM\n",
      "40K                         12/30/1899 2:03:14 AM\n",
      "5K                         12/30/1899 12:15:24 AM\n",
      "Age                                            30\n",
      "Bib                                          17.0\n",
      "Overall Time in Seconds                      7798\n",
      "Citizenship                                   USA\n",
      "Male Average Times                         7798.0\n",
      "Females Average Times                         NaN\n",
      "City                                     Portland\n",
      "Country                                       USA\n",
      "Division                                        2\n",
      "Gender                                          2\n",
      "Half                        12/30/1899 1:04:35 AM\n",
      "M/F                                             M\n",
      "Name                                  Rupp, Galen\n",
      "Number of Records                               1\n",
      "Official Time               12/30/1899 2:09:58 AM\n",
      "Overall                                         2\n",
      "Pace                       12/30/1899 12:04:58 AM\n",
      "State                                          OR\n",
      "Name: 1, dtype: object\n"
     ]
    }
   ],
   "source": [
    "row=df.loc[1]\n",
    "print(row)\n",
    "\n"
   ]
  },
  {
   "cell_type": "markdown",
   "metadata": {},
   "source": [
    "##### keys()"
   ]
  },
  {
   "cell_type": "code",
   "execution_count": 32,
   "metadata": {},
   "outputs": [
    {
     "data": {
      "text/plain": [
       "Index(['10K', '15K', '20K', '25K', '30K', '35K', '40K', '5K', 'Age', 'Bib',\n",
       "       'Overall Time in Seconds', 'Citizenship', 'Male Average Times',\n",
       "       'Females Average Times', 'City', 'Country', 'Division', 'Gender',\n",
       "       'Half', 'M/F', 'Name', 'Number of Records', 'Official Time', 'Overall',\n",
       "       'Pace', 'State'],\n",
       "      dtype='object')"
      ]
     },
     "execution_count": 32,
     "metadata": {},
     "output_type": "execute_result"
    }
   ],
   "source": [
    "# Access all of the keys/columns of the dataframe\n",
    "# Dataframe.keys()\n",
    "df.keys()"
   ]
  },
  {
   "cell_type": "markdown",
   "metadata": {},
   "source": [
    "##### Slicing a DataFrame"
   ]
  },
  {
   "cell_type": "code",
   "execution_count": 39,
   "metadata": {},
   "outputs": [
    {
     "name": "stdout",
     "output_type": "stream",
     "text": [
      "                          10K                    15K                    20K  \\\n",
      "20000  12/30/1899 12:53:41 AM  12/30/1899 1:22:43 AM  12/30/1899 1:55:26 AM   \n",
      "20001  12/30/1899 12:55:58 AM  12/30/1899 1:22:10 AM  12/30/1899 1:48:40 AM   \n",
      "20002  12/30/1899 12:54:22 AM  12/30/1899 1:22:06 AM  12/30/1899 1:53:56 AM   \n",
      "20003  12/30/1899 12:54:46 AM  12/30/1899 1:25:47 AM  12/30/1899 1:56:18 AM   \n",
      "20004  12/30/1899 12:54:07 AM  12/30/1899 1:21:14 AM  12/30/1899 1:48:46 AM   \n",
      "...                       ...                    ...                    ...   \n",
      "26405   12/30/1899 1:35:41 AM  12/30/1899 2:23:35 AM  12/30/1899 3:12:44 AM   \n",
      "26406   12/30/1899 1:05:33 AM  12/30/1899 1:52:17 AM  12/30/1899 2:49:41 AM   \n",
      "26407   12/30/1899 1:43:36 AM  12/30/1899 2:32:36 AM                    NaN   \n",
      "26408   12/30/1899 1:27:19 AM  12/30/1899 2:17:17 AM  12/30/1899 3:11:40 AM   \n",
      "26409   12/30/1899 1:17:12 AM  12/30/1899 2:00:10 AM  12/30/1899 2:58:55 AM   \n",
      "\n",
      "                         25K                    30K                    35K  \\\n",
      "20000  12/30/1899 2:27:02 AM  12/30/1899 3:00:58 AM  12/30/1899 3:34:58 AM   \n",
      "20001  12/30/1899 2:16:21 AM  12/30/1899 2:50:59 AM  12/30/1899 3:28:41 AM   \n",
      "20002  12/30/1899 2:27:12 AM  12/30/1899 2:59:44 AM  12/30/1899 3:35:10 AM   \n",
      "20003  12/30/1899 2:30:30 AM  12/30/1899 3:03:40 AM  12/30/1899 3:36:20 AM   \n",
      "20004  12/30/1899 2:16:29 AM  12/30/1899 2:46:38 AM  12/30/1899 3:23:41 AM   \n",
      "...                      ...                    ...                    ...   \n",
      "26405  12/30/1899 4:12:06 AM  12/30/1899 5:03:08 AM  12/30/1899 5:55:18 AM   \n",
      "26406  12/30/1899 3:50:19 AM  12/30/1899 4:50:01 AM  12/30/1899 5:53:48 AM   \n",
      "26407  12/30/1899 4:15:21 AM  12/30/1899 5:06:37 AM  12/30/1899 6:00:33 AM   \n",
      "26408  12/30/1899 4:06:10 AM  12/30/1899 5:07:09 AM  12/30/1899 6:06:07 AM   \n",
      "26409  12/30/1899 4:27:14 AM  12/30/1899 5:37:13 AM  12/30/1899 6:39:07 AM   \n",
      "\n",
      "                         40K                      5K  Age      Bib  ...  \\\n",
      "20000  12/30/1899 4:07:35 AM  12/30/1899 12:26:10 AM   55  20705.0  ...   \n",
      "20001  12/30/1899 4:06:39 AM  12/30/1899 12:29:23 AM   28  29849.0  ...   \n",
      "20002  12/30/1899 4:08:39 AM  12/30/1899 12:27:20 AM   45  26840.0  ...   \n",
      "20003  12/30/1899 4:08:52 AM  12/30/1899 12:27:27 AM   45  20936.0  ...   \n",
      "20004  12/30/1899 4:07:28 AM  12/30/1899 12:26:59 AM   66  23588.0  ...   \n",
      "...                      ...                     ...  ...      ...  ...   \n",
      "26405  12/30/1899 6:46:57 AM  12/30/1899 12:46:44 AM   61  25166.0  ...   \n",
      "26406  12/30/1899 6:54:21 AM  12/30/1899 12:32:03 AM   25  25178.0  ...   \n",
      "26407  12/30/1899 6:54:38 AM  12/30/1899 12:53:11 AM   57  27086.0  ...   \n",
      "26408  12/30/1899 6:56:08 AM  12/30/1899 12:40:34 AM   64  25268.0  ...   \n",
      "26409  12/30/1899 7:41:23 AM  12/30/1899 12:39:36 AM   48  25266.0  ...   \n",
      "\n",
      "       Division Gender                   Half  M/F                      Name  \\\n",
      "20000       378   8442  12/30/1899 2:02:00 AM    F           Draeger, Lori M   \n",
      "20001      4023  11561  12/30/1899 1:54:26 AM    M        Lamendola, Anthony   \n",
      "20002      2185  11562  12/30/1899 2:00:13 AM    M           Connolly, David   \n",
      "20003      1372   8443  12/30/1899 2:02:34 AM    F             Dube, Carolyn   \n",
      "20004       200  11563  12/30/1899 1:54:48 AM    M             Lupo, Francis   \n",
      "...         ...    ...                    ...  ...                       ...   \n",
      "26405       344  11972  12/30/1899 3:23:31 AM    F  Steinbach, Paula Eyvonne   \n",
      "26406      4774  14436  12/30/1899 3:00:26 AM    M        Avelino, Andrew R.   \n",
      "26407       698  11973  12/30/1899 3:36:24 AM    F           Hantel, Johanna   \n",
      "26408      1043  14437  12/30/1899 3:22:30 AM    M              Reilly, Bill   \n",
      "26409      2553  14438  12/30/1899 3:08:16 AM    M             Rigsby, Scott   \n",
      "\n",
      "      Number of Records          Official Time  Overall  \\\n",
      "20000                 1  12/30/1899 4:22:55 AM    20002   \n",
      "20001                 1  12/30/1899 4:22:55 AM    20003   \n",
      "20002                 1  12/30/1899 4:22:55 AM    20004   \n",
      "20003                 1  12/30/1899 4:22:56 AM    20005   \n",
      "20004                 1  12/30/1899 4:22:56 AM    20006   \n",
      "...                 ...                    ...      ...   \n",
      "26405                 1  12/30/1899 7:09:39 AM    26407   \n",
      "26406                 1  12/30/1899 7:16:59 AM    26408   \n",
      "26407                 1  12/30/1899 7:19:37 AM    26409   \n",
      "26408                 1  12/30/1899 7:20:44 AM    26410   \n",
      "26409                 1  12/30/1899 7:58:14 AM    26411   \n",
      "\n",
      "                         Pace State  \n",
      "20000  12/30/1899 12:10:02 AM    WI  \n",
      "20001  12/30/1899 12:10:02 AM    MA  \n",
      "20002  12/30/1899 12:10:02 AM    NY  \n",
      "20003  12/30/1899 12:10:02 AM    MA  \n",
      "20004  12/30/1899 12:10:02 AM    NJ  \n",
      "...                       ...   ...  \n",
      "26405  12/30/1899 12:16:24 AM    CA  \n",
      "26406  12/30/1899 12:16:40 AM    NC  \n",
      "26407  12/30/1899 12:16:47 AM    PA  \n",
      "26408  12/30/1899 12:16:49 AM    NY  \n",
      "26409  12/30/1899 12:18:15 AM    GA  \n",
      "\n",
      "[6410 rows x 26 columns]\n"
     ]
    }
   ],
   "source": [
    "# printing all data for context\n",
    "slice_rows=df.loc['2':'7']\n",
    "print(slice_rows)"
   ]
  },
  {
   "cell_type": "markdown",
   "metadata": {},
   "source": [
    "### Built-In Methods <br>\n",
    "\n",
    "<p>These are methods that are frequently used when using Pandas to make your life easier. It is possible to spend a whole week simply exploring the built-in functions supported by DataFrames in Pandas. Here however, we will simply highlight a few ones that might be useful, to give you an idea of what's possible out of the box with Pandas:</p>"
   ]
  },
  {
   "cell_type": "markdown",
   "metadata": {},
   "source": [
    "##### head()"
   ]
  },
  {
   "cell_type": "code",
   "execution_count": 40,
   "metadata": {
    "scrolled": true
   },
   "outputs": [
    {
     "data": {
      "text/html": [
       "<div>\n",
       "<style scoped>\n",
       "    .dataframe tbody tr th:only-of-type {\n",
       "        vertical-align: middle;\n",
       "    }\n",
       "\n",
       "    .dataframe tbody tr th {\n",
       "        vertical-align: top;\n",
       "    }\n",
       "\n",
       "    .dataframe thead th {\n",
       "        text-align: right;\n",
       "    }\n",
       "</style>\n",
       "<table border=\"1\" class=\"dataframe\">\n",
       "  <thead>\n",
       "    <tr style=\"text-align: right;\">\n",
       "      <th></th>\n",
       "      <th>10K</th>\n",
       "      <th>15K</th>\n",
       "      <th>20K</th>\n",
       "      <th>25K</th>\n",
       "      <th>30K</th>\n",
       "      <th>35K</th>\n",
       "      <th>40K</th>\n",
       "      <th>5K</th>\n",
       "      <th>Age</th>\n",
       "      <th>Bib</th>\n",
       "      <th>...</th>\n",
       "      <th>Division</th>\n",
       "      <th>Gender</th>\n",
       "      <th>Half</th>\n",
       "      <th>M/F</th>\n",
       "      <th>Name</th>\n",
       "      <th>Number of Records</th>\n",
       "      <th>Official Time</th>\n",
       "      <th>Overall</th>\n",
       "      <th>Pace</th>\n",
       "      <th>State</th>\n",
       "    </tr>\n",
       "  </thead>\n",
       "  <tbody>\n",
       "    <tr>\n",
       "      <th>0</th>\n",
       "      <td>12/30/1899 12:30:28 AM</td>\n",
       "      <td>12/30/1899 12:45:44 AM</td>\n",
       "      <td>12/30/1899 1:01:15 AM</td>\n",
       "      <td>12/30/1899 1:16:59 AM</td>\n",
       "      <td>12/30/1899 1:33:01 AM</td>\n",
       "      <td>12/30/1899 1:48:19 AM</td>\n",
       "      <td>12/30/1899 2:02:53 AM</td>\n",
       "      <td>12/30/1899 12:15:25 AM</td>\n",
       "      <td>24</td>\n",
       "      <td>11.0</td>\n",
       "      <td>...</td>\n",
       "      <td>1</td>\n",
       "      <td>1</td>\n",
       "      <td>12/30/1899 1:04:35 AM</td>\n",
       "      <td>M</td>\n",
       "      <td>Kirui, Geoffrey</td>\n",
       "      <td>1</td>\n",
       "      <td>12/30/1899 2:09:37 AM</td>\n",
       "      <td>1</td>\n",
       "      <td>12/30/1899 12:04:57 AM</td>\n",
       "      <td>NaN</td>\n",
       "    </tr>\n",
       "    <tr>\n",
       "      <th>1</th>\n",
       "      <td>12/30/1899 12:30:27 AM</td>\n",
       "      <td>12/30/1899 12:45:44 AM</td>\n",
       "      <td>12/30/1899 1:01:15 AM</td>\n",
       "      <td>12/30/1899 1:16:59 AM</td>\n",
       "      <td>12/30/1899 1:33:01 AM</td>\n",
       "      <td>12/30/1899 1:48:19 AM</td>\n",
       "      <td>12/30/1899 2:03:14 AM</td>\n",
       "      <td>12/30/1899 12:15:24 AM</td>\n",
       "      <td>30</td>\n",
       "      <td>17.0</td>\n",
       "      <td>...</td>\n",
       "      <td>2</td>\n",
       "      <td>2</td>\n",
       "      <td>12/30/1899 1:04:35 AM</td>\n",
       "      <td>M</td>\n",
       "      <td>Rupp, Galen</td>\n",
       "      <td>1</td>\n",
       "      <td>12/30/1899 2:09:58 AM</td>\n",
       "      <td>2</td>\n",
       "      <td>12/30/1899 12:04:58 AM</td>\n",
       "      <td>OR</td>\n",
       "    </tr>\n",
       "    <tr>\n",
       "      <th>2</th>\n",
       "      <td>12/30/1899 12:30:29 AM</td>\n",
       "      <td>12/30/1899 12:45:44 AM</td>\n",
       "      <td>12/30/1899 1:01:16 AM</td>\n",
       "      <td>12/30/1899 1:17:00 AM</td>\n",
       "      <td>12/30/1899 1:33:01 AM</td>\n",
       "      <td>12/30/1899 1:48:31 AM</td>\n",
       "      <td>12/30/1899 2:03:38 AM</td>\n",
       "      <td>12/30/1899 12:15:25 AM</td>\n",
       "      <td>25</td>\n",
       "      <td>23.0</td>\n",
       "      <td>...</td>\n",
       "      <td>3</td>\n",
       "      <td>3</td>\n",
       "      <td>12/30/1899 1:04:36 AM</td>\n",
       "      <td>M</td>\n",
       "      <td>Osako, Suguru</td>\n",
       "      <td>1</td>\n",
       "      <td>12/30/1899 2:10:28 AM</td>\n",
       "      <td>3</td>\n",
       "      <td>12/30/1899 12:04:59 AM</td>\n",
       "      <td>NaN</td>\n",
       "    </tr>\n",
       "    <tr>\n",
       "      <th>3</th>\n",
       "      <td>12/30/1899 12:30:29 AM</td>\n",
       "      <td>12/30/1899 12:45:44 AM</td>\n",
       "      <td>12/30/1899 1:01:19 AM</td>\n",
       "      <td>12/30/1899 1:17:00 AM</td>\n",
       "      <td>12/30/1899 1:33:01 AM</td>\n",
       "      <td>12/30/1899 1:48:58 AM</td>\n",
       "      <td>12/30/1899 2:04:35 AM</td>\n",
       "      <td>12/30/1899 12:15:25 AM</td>\n",
       "      <td>32</td>\n",
       "      <td>21.0</td>\n",
       "      <td>...</td>\n",
       "      <td>4</td>\n",
       "      <td>4</td>\n",
       "      <td>12/30/1899 1:04:45 AM</td>\n",
       "      <td>M</td>\n",
       "      <td>Biwott, Shadrack</td>\n",
       "      <td>1</td>\n",
       "      <td>12/30/1899 2:12:08 AM</td>\n",
       "      <td>4</td>\n",
       "      <td>12/30/1899 12:05:03 AM</td>\n",
       "      <td>CA</td>\n",
       "    </tr>\n",
       "    <tr>\n",
       "      <th>4</th>\n",
       "      <td>12/30/1899 12:30:28 AM</td>\n",
       "      <td>12/30/1899 12:45:44 AM</td>\n",
       "      <td>12/30/1899 1:01:15 AM</td>\n",
       "      <td>12/30/1899 1:16:59 AM</td>\n",
       "      <td>12/30/1899 1:33:01 AM</td>\n",
       "      <td>12/30/1899 1:48:41 AM</td>\n",
       "      <td>12/30/1899 2:05:00 AM</td>\n",
       "      <td>12/30/1899 12:15:25 AM</td>\n",
       "      <td>31</td>\n",
       "      <td>9.0</td>\n",
       "      <td>...</td>\n",
       "      <td>5</td>\n",
       "      <td>5</td>\n",
       "      <td>12/30/1899 1:04:35 AM</td>\n",
       "      <td>M</td>\n",
       "      <td>Chebet, Wilson</td>\n",
       "      <td>1</td>\n",
       "      <td>12/30/1899 2:12:35 AM</td>\n",
       "      <td>5</td>\n",
       "      <td>12/30/1899 12:05:04 AM</td>\n",
       "      <td>NaN</td>\n",
       "    </tr>\n",
       "  </tbody>\n",
       "</table>\n",
       "<p>5 rows × 26 columns</p>\n",
       "</div>"
      ],
      "text/plain": [
       "                      10K                     15K                    20K  \\\n",
       "0  12/30/1899 12:30:28 AM  12/30/1899 12:45:44 AM  12/30/1899 1:01:15 AM   \n",
       "1  12/30/1899 12:30:27 AM  12/30/1899 12:45:44 AM  12/30/1899 1:01:15 AM   \n",
       "2  12/30/1899 12:30:29 AM  12/30/1899 12:45:44 AM  12/30/1899 1:01:16 AM   \n",
       "3  12/30/1899 12:30:29 AM  12/30/1899 12:45:44 AM  12/30/1899 1:01:19 AM   \n",
       "4  12/30/1899 12:30:28 AM  12/30/1899 12:45:44 AM  12/30/1899 1:01:15 AM   \n",
       "\n",
       "                     25K                    30K                    35K  \\\n",
       "0  12/30/1899 1:16:59 AM  12/30/1899 1:33:01 AM  12/30/1899 1:48:19 AM   \n",
       "1  12/30/1899 1:16:59 AM  12/30/1899 1:33:01 AM  12/30/1899 1:48:19 AM   \n",
       "2  12/30/1899 1:17:00 AM  12/30/1899 1:33:01 AM  12/30/1899 1:48:31 AM   \n",
       "3  12/30/1899 1:17:00 AM  12/30/1899 1:33:01 AM  12/30/1899 1:48:58 AM   \n",
       "4  12/30/1899 1:16:59 AM  12/30/1899 1:33:01 AM  12/30/1899 1:48:41 AM   \n",
       "\n",
       "                     40K                      5K  Age   Bib  ...  Division  \\\n",
       "0  12/30/1899 2:02:53 AM  12/30/1899 12:15:25 AM   24  11.0  ...         1   \n",
       "1  12/30/1899 2:03:14 AM  12/30/1899 12:15:24 AM   30  17.0  ...         2   \n",
       "2  12/30/1899 2:03:38 AM  12/30/1899 12:15:25 AM   25  23.0  ...         3   \n",
       "3  12/30/1899 2:04:35 AM  12/30/1899 12:15:25 AM   32  21.0  ...         4   \n",
       "4  12/30/1899 2:05:00 AM  12/30/1899 12:15:25 AM   31   9.0  ...         5   \n",
       "\n",
       "  Gender                   Half  M/F              Name Number of Records  \\\n",
       "0      1  12/30/1899 1:04:35 AM    M   Kirui, Geoffrey                 1   \n",
       "1      2  12/30/1899 1:04:35 AM    M       Rupp, Galen                 1   \n",
       "2      3  12/30/1899 1:04:36 AM    M     Osako, Suguru                 1   \n",
       "3      4  12/30/1899 1:04:45 AM    M  Biwott, Shadrack                 1   \n",
       "4      5  12/30/1899 1:04:35 AM    M    Chebet, Wilson                 1   \n",
       "\n",
       "           Official Time  Overall                    Pace State  \n",
       "0  12/30/1899 2:09:37 AM        1  12/30/1899 12:04:57 AM   NaN  \n",
       "1  12/30/1899 2:09:58 AM        2  12/30/1899 12:04:58 AM    OR  \n",
       "2  12/30/1899 2:10:28 AM        3  12/30/1899 12:04:59 AM   NaN  \n",
       "3  12/30/1899 2:12:08 AM        4  12/30/1899 12:05:03 AM    CA  \n",
       "4  12/30/1899 2:12:35 AM        5  12/30/1899 12:05:04 AM   NaN  \n",
       "\n",
       "[5 rows x 26 columns]"
      ]
     },
     "execution_count": 40,
     "metadata": {},
     "output_type": "execute_result"
    }
   ],
   "source": [
    "# DataFrame.head()  -- Accepts integer parameter(gives access to more rows)\n",
    "df.head()"
   ]
  },
  {
   "cell_type": "markdown",
   "metadata": {},
   "source": [
    "##### tail()"
   ]
  },
  {
   "cell_type": "code",
   "execution_count": 41,
   "metadata": {
    "scrolled": false
   },
   "outputs": [
    {
     "data": {
      "text/html": [
       "<div>\n",
       "<style scoped>\n",
       "    .dataframe tbody tr th:only-of-type {\n",
       "        vertical-align: middle;\n",
       "    }\n",
       "\n",
       "    .dataframe tbody tr th {\n",
       "        vertical-align: top;\n",
       "    }\n",
       "\n",
       "    .dataframe thead th {\n",
       "        text-align: right;\n",
       "    }\n",
       "</style>\n",
       "<table border=\"1\" class=\"dataframe\">\n",
       "  <thead>\n",
       "    <tr style=\"text-align: right;\">\n",
       "      <th></th>\n",
       "      <th>10K</th>\n",
       "      <th>15K</th>\n",
       "      <th>20K</th>\n",
       "      <th>25K</th>\n",
       "      <th>30K</th>\n",
       "      <th>35K</th>\n",
       "      <th>40K</th>\n",
       "      <th>5K</th>\n",
       "      <th>Age</th>\n",
       "      <th>Bib</th>\n",
       "      <th>...</th>\n",
       "      <th>Division</th>\n",
       "      <th>Gender</th>\n",
       "      <th>Half</th>\n",
       "      <th>M/F</th>\n",
       "      <th>Name</th>\n",
       "      <th>Number of Records</th>\n",
       "      <th>Official Time</th>\n",
       "      <th>Overall</th>\n",
       "      <th>Pace</th>\n",
       "      <th>State</th>\n",
       "    </tr>\n",
       "  </thead>\n",
       "  <tbody>\n",
       "    <tr>\n",
       "      <th>26405</th>\n",
       "      <td>12/30/1899 1:35:41 AM</td>\n",
       "      <td>12/30/1899 2:23:35 AM</td>\n",
       "      <td>12/30/1899 3:12:44 AM</td>\n",
       "      <td>12/30/1899 4:12:06 AM</td>\n",
       "      <td>12/30/1899 5:03:08 AM</td>\n",
       "      <td>12/30/1899 5:55:18 AM</td>\n",
       "      <td>12/30/1899 6:46:57 AM</td>\n",
       "      <td>12/30/1899 12:46:44 AM</td>\n",
       "      <td>61</td>\n",
       "      <td>25166.0</td>\n",
       "      <td>...</td>\n",
       "      <td>344</td>\n",
       "      <td>11972</td>\n",
       "      <td>12/30/1899 3:23:31 AM</td>\n",
       "      <td>F</td>\n",
       "      <td>Steinbach, Paula Eyvonne</td>\n",
       "      <td>1</td>\n",
       "      <td>12/30/1899 7:09:39 AM</td>\n",
       "      <td>26407</td>\n",
       "      <td>12/30/1899 12:16:24 AM</td>\n",
       "      <td>CA</td>\n",
       "    </tr>\n",
       "    <tr>\n",
       "      <th>26406</th>\n",
       "      <td>12/30/1899 1:05:33 AM</td>\n",
       "      <td>12/30/1899 1:52:17 AM</td>\n",
       "      <td>12/30/1899 2:49:41 AM</td>\n",
       "      <td>12/30/1899 3:50:19 AM</td>\n",
       "      <td>12/30/1899 4:50:01 AM</td>\n",
       "      <td>12/30/1899 5:53:48 AM</td>\n",
       "      <td>12/30/1899 6:54:21 AM</td>\n",
       "      <td>12/30/1899 12:32:03 AM</td>\n",
       "      <td>25</td>\n",
       "      <td>25178.0</td>\n",
       "      <td>...</td>\n",
       "      <td>4774</td>\n",
       "      <td>14436</td>\n",
       "      <td>12/30/1899 3:00:26 AM</td>\n",
       "      <td>M</td>\n",
       "      <td>Avelino, Andrew R.</td>\n",
       "      <td>1</td>\n",
       "      <td>12/30/1899 7:16:59 AM</td>\n",
       "      <td>26408</td>\n",
       "      <td>12/30/1899 12:16:40 AM</td>\n",
       "      <td>NC</td>\n",
       "    </tr>\n",
       "    <tr>\n",
       "      <th>26407</th>\n",
       "      <td>12/30/1899 1:43:36 AM</td>\n",
       "      <td>12/30/1899 2:32:36 AM</td>\n",
       "      <td>NaN</td>\n",
       "      <td>12/30/1899 4:15:21 AM</td>\n",
       "      <td>12/30/1899 5:06:37 AM</td>\n",
       "      <td>12/30/1899 6:00:33 AM</td>\n",
       "      <td>12/30/1899 6:54:38 AM</td>\n",
       "      <td>12/30/1899 12:53:11 AM</td>\n",
       "      <td>57</td>\n",
       "      <td>27086.0</td>\n",
       "      <td>...</td>\n",
       "      <td>698</td>\n",
       "      <td>11973</td>\n",
       "      <td>12/30/1899 3:36:24 AM</td>\n",
       "      <td>F</td>\n",
       "      <td>Hantel, Johanna</td>\n",
       "      <td>1</td>\n",
       "      <td>12/30/1899 7:19:37 AM</td>\n",
       "      <td>26409</td>\n",
       "      <td>12/30/1899 12:16:47 AM</td>\n",
       "      <td>PA</td>\n",
       "    </tr>\n",
       "    <tr>\n",
       "      <th>26408</th>\n",
       "      <td>12/30/1899 1:27:19 AM</td>\n",
       "      <td>12/30/1899 2:17:17 AM</td>\n",
       "      <td>12/30/1899 3:11:40 AM</td>\n",
       "      <td>12/30/1899 4:06:10 AM</td>\n",
       "      <td>12/30/1899 5:07:09 AM</td>\n",
       "      <td>12/30/1899 6:06:07 AM</td>\n",
       "      <td>12/30/1899 6:56:08 AM</td>\n",
       "      <td>12/30/1899 12:40:34 AM</td>\n",
       "      <td>64</td>\n",
       "      <td>25268.0</td>\n",
       "      <td>...</td>\n",
       "      <td>1043</td>\n",
       "      <td>14437</td>\n",
       "      <td>12/30/1899 3:22:30 AM</td>\n",
       "      <td>M</td>\n",
       "      <td>Reilly, Bill</td>\n",
       "      <td>1</td>\n",
       "      <td>12/30/1899 7:20:44 AM</td>\n",
       "      <td>26410</td>\n",
       "      <td>12/30/1899 12:16:49 AM</td>\n",
       "      <td>NY</td>\n",
       "    </tr>\n",
       "    <tr>\n",
       "      <th>26409</th>\n",
       "      <td>12/30/1899 1:17:12 AM</td>\n",
       "      <td>12/30/1899 2:00:10 AM</td>\n",
       "      <td>12/30/1899 2:58:55 AM</td>\n",
       "      <td>12/30/1899 4:27:14 AM</td>\n",
       "      <td>12/30/1899 5:37:13 AM</td>\n",
       "      <td>12/30/1899 6:39:07 AM</td>\n",
       "      <td>12/30/1899 7:41:23 AM</td>\n",
       "      <td>12/30/1899 12:39:36 AM</td>\n",
       "      <td>48</td>\n",
       "      <td>25266.0</td>\n",
       "      <td>...</td>\n",
       "      <td>2553</td>\n",
       "      <td>14438</td>\n",
       "      <td>12/30/1899 3:08:16 AM</td>\n",
       "      <td>M</td>\n",
       "      <td>Rigsby, Scott</td>\n",
       "      <td>1</td>\n",
       "      <td>12/30/1899 7:58:14 AM</td>\n",
       "      <td>26411</td>\n",
       "      <td>12/30/1899 12:18:15 AM</td>\n",
       "      <td>GA</td>\n",
       "    </tr>\n",
       "  </tbody>\n",
       "</table>\n",
       "<p>5 rows × 26 columns</p>\n",
       "</div>"
      ],
      "text/plain": [
       "                         10K                    15K                    20K  \\\n",
       "26405  12/30/1899 1:35:41 AM  12/30/1899 2:23:35 AM  12/30/1899 3:12:44 AM   \n",
       "26406  12/30/1899 1:05:33 AM  12/30/1899 1:52:17 AM  12/30/1899 2:49:41 AM   \n",
       "26407  12/30/1899 1:43:36 AM  12/30/1899 2:32:36 AM                    NaN   \n",
       "26408  12/30/1899 1:27:19 AM  12/30/1899 2:17:17 AM  12/30/1899 3:11:40 AM   \n",
       "26409  12/30/1899 1:17:12 AM  12/30/1899 2:00:10 AM  12/30/1899 2:58:55 AM   \n",
       "\n",
       "                         25K                    30K                    35K  \\\n",
       "26405  12/30/1899 4:12:06 AM  12/30/1899 5:03:08 AM  12/30/1899 5:55:18 AM   \n",
       "26406  12/30/1899 3:50:19 AM  12/30/1899 4:50:01 AM  12/30/1899 5:53:48 AM   \n",
       "26407  12/30/1899 4:15:21 AM  12/30/1899 5:06:37 AM  12/30/1899 6:00:33 AM   \n",
       "26408  12/30/1899 4:06:10 AM  12/30/1899 5:07:09 AM  12/30/1899 6:06:07 AM   \n",
       "26409  12/30/1899 4:27:14 AM  12/30/1899 5:37:13 AM  12/30/1899 6:39:07 AM   \n",
       "\n",
       "                         40K                      5K  Age      Bib  ...  \\\n",
       "26405  12/30/1899 6:46:57 AM  12/30/1899 12:46:44 AM   61  25166.0  ...   \n",
       "26406  12/30/1899 6:54:21 AM  12/30/1899 12:32:03 AM   25  25178.0  ...   \n",
       "26407  12/30/1899 6:54:38 AM  12/30/1899 12:53:11 AM   57  27086.0  ...   \n",
       "26408  12/30/1899 6:56:08 AM  12/30/1899 12:40:34 AM   64  25268.0  ...   \n",
       "26409  12/30/1899 7:41:23 AM  12/30/1899 12:39:36 AM   48  25266.0  ...   \n",
       "\n",
       "       Division Gender                   Half  M/F                      Name  \\\n",
       "26405       344  11972  12/30/1899 3:23:31 AM    F  Steinbach, Paula Eyvonne   \n",
       "26406      4774  14436  12/30/1899 3:00:26 AM    M        Avelino, Andrew R.   \n",
       "26407       698  11973  12/30/1899 3:36:24 AM    F           Hantel, Johanna   \n",
       "26408      1043  14437  12/30/1899 3:22:30 AM    M              Reilly, Bill   \n",
       "26409      2553  14438  12/30/1899 3:08:16 AM    M             Rigsby, Scott   \n",
       "\n",
       "      Number of Records          Official Time  Overall  \\\n",
       "26405                 1  12/30/1899 7:09:39 AM    26407   \n",
       "26406                 1  12/30/1899 7:16:59 AM    26408   \n",
       "26407                 1  12/30/1899 7:19:37 AM    26409   \n",
       "26408                 1  12/30/1899 7:20:44 AM    26410   \n",
       "26409                 1  12/30/1899 7:58:14 AM    26411   \n",
       "\n",
       "                         Pace State  \n",
       "26405  12/30/1899 12:16:24 AM    CA  \n",
       "26406  12/30/1899 12:16:40 AM    NC  \n",
       "26407  12/30/1899 12:16:47 AM    PA  \n",
       "26408  12/30/1899 12:16:49 AM    NY  \n",
       "26409  12/30/1899 12:18:15 AM    GA  \n",
       "\n",
       "[5 rows x 26 columns]"
      ]
     },
     "execution_count": 41,
     "metadata": {},
     "output_type": "execute_result"
    }
   ],
   "source": [
    "# DataFrame.tail()  -- Accepts integer parameter(gives access to more rows)\n",
    "df.tail()"
   ]
  },
  {
   "cell_type": "markdown",
   "metadata": {},
   "source": [
    "##### shape"
   ]
  },
  {
   "cell_type": "code",
   "execution_count": 44,
   "metadata": {},
   "outputs": [
    {
     "name": "stdout",
     "output_type": "stream",
     "text": [
      "(26410, 26)\n"
     ]
    }
   ],
   "source": [
    "# The dataframe has a shape property, just like a NumPy matrix. \n",
    "# print(df.shape) -- DataFrame.shape -- No Parameter\n",
    "\n",
    "\n",
    "print(df.shape)\n",
    "\n"
   ]
  },
  {
   "cell_type": "markdown",
   "metadata": {},
   "source": [
    "##### describe() <br>\n",
    "<p>Probably one of the most important methods to understand...</p>"
   ]
  },
  {
   "cell_type": "code",
   "execution_count": 45,
   "metadata": {},
   "outputs": [
    {
     "data": {
      "text/html": [
       "<div>\n",
       "<style scoped>\n",
       "    .dataframe tbody tr th:only-of-type {\n",
       "        vertical-align: middle;\n",
       "    }\n",
       "\n",
       "    .dataframe tbody tr th {\n",
       "        vertical-align: top;\n",
       "    }\n",
       "\n",
       "    .dataframe thead th {\n",
       "        text-align: right;\n",
       "    }\n",
       "</style>\n",
       "<table border=\"1\" class=\"dataframe\">\n",
       "  <thead>\n",
       "    <tr style=\"text-align: right;\">\n",
       "      <th></th>\n",
       "      <th>Age</th>\n",
       "      <th>Bib</th>\n",
       "      <th>Overall Time in Seconds</th>\n",
       "      <th>Male Average Times</th>\n",
       "      <th>Females Average Times</th>\n",
       "      <th>Division</th>\n",
       "      <th>Gender</th>\n",
       "      <th>Number of Records</th>\n",
       "      <th>Overall</th>\n",
       "    </tr>\n",
       "  </thead>\n",
       "  <tbody>\n",
       "    <tr>\n",
       "      <th>count</th>\n",
       "      <td>26410.000000</td>\n",
       "      <td>26364.000000</td>\n",
       "      <td>26410.000000</td>\n",
       "      <td>14438.000000</td>\n",
       "      <td>11972.000000</td>\n",
       "      <td>26410.000000</td>\n",
       "      <td>26410.000000</td>\n",
       "      <td>26410.0</td>\n",
       "      <td>26410.000000</td>\n",
       "    </tr>\n",
       "    <tr>\n",
       "      <th>mean</th>\n",
       "      <td>42.587732</td>\n",
       "      <td>15795.590844</td>\n",
       "      <td>14283.555358</td>\n",
       "      <td>13734.688392</td>\n",
       "      <td>14945.478283</td>\n",
       "      <td>1588.796706</td>\n",
       "      <td>6660.973230</td>\n",
       "      <td>1.0</td>\n",
       "      <td>13206.260091</td>\n",
       "    </tr>\n",
       "    <tr>\n",
       "      <th>std</th>\n",
       "      <td>11.419467</td>\n",
       "      <td>9109.945155</td>\n",
       "      <td>2528.883183</td>\n",
       "      <td>2572.342401</td>\n",
       "      <td>2308.008629</td>\n",
       "      <td>1423.199500</td>\n",
       "      <td>3910.031525</td>\n",
       "      <td>0.0</td>\n",
       "      <td>7624.370496</td>\n",
       "    </tr>\n",
       "    <tr>\n",
       "      <th>min</th>\n",
       "      <td>18.000000</td>\n",
       "      <td>3.000000</td>\n",
       "      <td>7777.000000</td>\n",
       "      <td>7777.000000</td>\n",
       "      <td>8512.000000</td>\n",
       "      <td>1.000000</td>\n",
       "      <td>1.000000</td>\n",
       "      <td>1.0</td>\n",
       "      <td>1.000000</td>\n",
       "    </tr>\n",
       "    <tr>\n",
       "      <th>25%</th>\n",
       "      <td>34.000000</td>\n",
       "      <td>8042.750000</td>\n",
       "      <td>12499.000000</td>\n",
       "      <td>11847.000000</td>\n",
       "      <td>13321.750000</td>\n",
       "      <td>502.000000</td>\n",
       "      <td>3302.250000</td>\n",
       "      <td>1.0</td>\n",
       "      <td>6604.250000</td>\n",
       "    </tr>\n",
       "    <tr>\n",
       "      <th>50%</th>\n",
       "      <td>43.000000</td>\n",
       "      <td>16020.500000</td>\n",
       "      <td>13899.500000</td>\n",
       "      <td>13281.500000</td>\n",
       "      <td>14447.500000</td>\n",
       "      <td>1154.000000</td>\n",
       "      <td>6603.500000</td>\n",
       "      <td>1.0</td>\n",
       "      <td>13206.500000</td>\n",
       "    </tr>\n",
       "    <tr>\n",
       "      <th>75%</th>\n",
       "      <td>51.000000</td>\n",
       "      <td>23473.250000</td>\n",
       "      <td>15708.000000</td>\n",
       "      <td>15181.250000</td>\n",
       "      <td>16191.000000</td>\n",
       "      <td>2190.750000</td>\n",
       "      <td>9904.750000</td>\n",
       "      <td>1.0</td>\n",
       "      <td>19808.750000</td>\n",
       "    </tr>\n",
       "    <tr>\n",
       "      <th>max</th>\n",
       "      <td>84.000000</td>\n",
       "      <td>31437.000000</td>\n",
       "      <td>28694.000000</td>\n",
       "      <td>28694.000000</td>\n",
       "      <td>26377.000000</td>\n",
       "      <td>5846.000000</td>\n",
       "      <td>14438.000000</td>\n",
       "      <td>1.0</td>\n",
       "      <td>26411.000000</td>\n",
       "    </tr>\n",
       "  </tbody>\n",
       "</table>\n",
       "</div>"
      ],
      "text/plain": [
       "                Age           Bib  Overall Time in Seconds  \\\n",
       "count  26410.000000  26364.000000             26410.000000   \n",
       "mean      42.587732  15795.590844             14283.555358   \n",
       "std       11.419467   9109.945155              2528.883183   \n",
       "min       18.000000      3.000000              7777.000000   \n",
       "25%       34.000000   8042.750000             12499.000000   \n",
       "50%       43.000000  16020.500000             13899.500000   \n",
       "75%       51.000000  23473.250000             15708.000000   \n",
       "max       84.000000  31437.000000             28694.000000   \n",
       "\n",
       "       Male Average Times  Females Average Times      Division        Gender  \\\n",
       "count        14438.000000           11972.000000  26410.000000  26410.000000   \n",
       "mean         13734.688392           14945.478283   1588.796706   6660.973230   \n",
       "std           2572.342401            2308.008629   1423.199500   3910.031525   \n",
       "min           7777.000000            8512.000000      1.000000      1.000000   \n",
       "25%          11847.000000           13321.750000    502.000000   3302.250000   \n",
       "50%          13281.500000           14447.500000   1154.000000   6603.500000   \n",
       "75%          15181.250000           16191.000000   2190.750000   9904.750000   \n",
       "max          28694.000000           26377.000000   5846.000000  14438.000000   \n",
       "\n",
       "       Number of Records       Overall  \n",
       "count            26410.0  26410.000000  \n",
       "mean                 1.0  13206.260091  \n",
       "std                  0.0   7624.370496  \n",
       "min                  1.0      1.000000  \n",
       "25%                  1.0   6604.250000  \n",
       "50%                  1.0  13206.500000  \n",
       "75%                  1.0  19808.750000  \n",
       "max                  1.0  26411.000000  "
      ]
     },
     "execution_count": 45,
     "metadata": {},
     "output_type": "execute_result"
    }
   ],
   "source": [
    "# Collect summary statistics in one line\n",
    "# DataFrame.describe() -- Accepts parameters (include, exclude)\n",
    "df.describe()"
   ]
  },
  {
   "cell_type": "markdown",
   "metadata": {},
   "source": [
    "##### sort_values()"
   ]
  },
  {
   "cell_type": "code",
   "execution_count": 47,
   "metadata": {},
   "outputs": [
    {
     "data": {
      "text/html": [
       "<div>\n",
       "<style scoped>\n",
       "    .dataframe tbody tr th:only-of-type {\n",
       "        vertical-align: middle;\n",
       "    }\n",
       "\n",
       "    .dataframe tbody tr th {\n",
       "        vertical-align: top;\n",
       "    }\n",
       "\n",
       "    .dataframe thead th {\n",
       "        text-align: right;\n",
       "    }\n",
       "</style>\n",
       "<table border=\"1\" class=\"dataframe\">\n",
       "  <thead>\n",
       "    <tr style=\"text-align: right;\">\n",
       "      <th></th>\n",
       "      <th>10K</th>\n",
       "      <th>15K</th>\n",
       "      <th>20K</th>\n",
       "      <th>25K</th>\n",
       "      <th>30K</th>\n",
       "      <th>35K</th>\n",
       "      <th>40K</th>\n",
       "      <th>5K</th>\n",
       "      <th>Age</th>\n",
       "      <th>Bib</th>\n",
       "      <th>...</th>\n",
       "      <th>Division</th>\n",
       "      <th>Gender</th>\n",
       "      <th>Half</th>\n",
       "      <th>M/F</th>\n",
       "      <th>Name</th>\n",
       "      <th>Number of Records</th>\n",
       "      <th>Official Time</th>\n",
       "      <th>Overall</th>\n",
       "      <th>Pace</th>\n",
       "      <th>State</th>\n",
       "    </tr>\n",
       "  </thead>\n",
       "  <tbody>\n",
       "    <tr>\n",
       "      <th>17735</th>\n",
       "      <td>12/30/1899 12:59:53 AM</td>\n",
       "      <td>12/30/1899 1:28:11 AM</td>\n",
       "      <td>12/30/1899 1:57:49 AM</td>\n",
       "      <td>12/30/1899 2:26:58 AM</td>\n",
       "      <td>12/30/1899 2:56:59 AM</td>\n",
       "      <td>12/30/1899 3:27:37 AM</td>\n",
       "      <td>12/30/1899 3:57:28 AM</td>\n",
       "      <td>12/30/1899 12:30:25 AM</td>\n",
       "      <td>18</td>\n",
       "      <td>26356.0</td>\n",
       "      <td>...</td>\n",
       "      <td>3841</td>\n",
       "      <td>10628</td>\n",
       "      <td>12/30/1899 2:04:00 AM</td>\n",
       "      <td>M</td>\n",
       "      <td>Fried, Lucas A.</td>\n",
       "      <td>1</td>\n",
       "      <td>12/30/1899 4:10:23 AM</td>\n",
       "      <td>17737</td>\n",
       "      <td>12/30/1899 12:09:33 AM</td>\n",
       "      <td>MA</td>\n",
       "    </tr>\n",
       "    <tr>\n",
       "      <th>22938</th>\n",
       "      <td>12/30/1899 1:05:00 AM</td>\n",
       "      <td>12/30/1899 1:37:15 AM</td>\n",
       "      <td>12/30/1899 2:09:43 AM</td>\n",
       "      <td>12/30/1899 2:42:12 AM</td>\n",
       "      <td>12/30/1899 3:17:28 AM</td>\n",
       "      <td>12/30/1899 3:54:05 AM</td>\n",
       "      <td>12/30/1899 4:31:57 AM</td>\n",
       "      <td>12/30/1899 12:32:44 AM</td>\n",
       "      <td>18</td>\n",
       "      <td>28542.0</td>\n",
       "      <td>...</td>\n",
       "      <td>4939</td>\n",
       "      <td>10047</td>\n",
       "      <td>12/30/1899 2:16:44 AM</td>\n",
       "      <td>F</td>\n",
       "      <td>Blake, Meghan E.</td>\n",
       "      <td>1</td>\n",
       "      <td>12/30/1899 4:47:48 AM</td>\n",
       "      <td>22940</td>\n",
       "      <td>12/30/1899 12:10:59 AM</td>\n",
       "      <td>MA</td>\n",
       "    </tr>\n",
       "    <tr>\n",
       "      <th>4735</th>\n",
       "      <td>12/30/1899 12:40:00 AM</td>\n",
       "      <td>12/30/1899 1:02:27 AM</td>\n",
       "      <td>12/30/1899 1:25:33 AM</td>\n",
       "      <td>12/30/1899 1:48:11 AM</td>\n",
       "      <td>12/30/1899 2:12:15 AM</td>\n",
       "      <td>12/30/1899 2:38:13 AM</td>\n",
       "      <td>12/30/1899 3:07:00 AM</td>\n",
       "      <td>12/30/1899 12:20:00 AM</td>\n",
       "      <td>18</td>\n",
       "      <td>4496.0</td>\n",
       "      <td>...</td>\n",
       "      <td>2342</td>\n",
       "      <td>4062</td>\n",
       "      <td>12/30/1899 1:30:22 AM</td>\n",
       "      <td>M</td>\n",
       "      <td>Moore, Ryan D</td>\n",
       "      <td>1</td>\n",
       "      <td>12/30/1899 3:20:23 AM</td>\n",
       "      <td>4736</td>\n",
       "      <td>12/30/1899 12:07:39 AM</td>\n",
       "      <td>WA</td>\n",
       "    </tr>\n",
       "    <tr>\n",
       "      <th>5443</th>\n",
       "      <td>12/30/1899 12:47:10 AM</td>\n",
       "      <td>12/30/1899 1:11:18 AM</td>\n",
       "      <td>12/30/1899 1:34:48 AM</td>\n",
       "      <td>12/30/1899 1:58:19 AM</td>\n",
       "      <td>12/30/1899 2:23:26 AM</td>\n",
       "      <td>12/30/1899 2:48:35 AM</td>\n",
       "      <td>12/30/1899 3:13:12 AM</td>\n",
       "      <td>12/30/1899 12:23:39 AM</td>\n",
       "      <td>18</td>\n",
       "      <td>27556.0</td>\n",
       "      <td>...</td>\n",
       "      <td>2493</td>\n",
       "      <td>4567</td>\n",
       "      <td>12/30/1899 1:39:59 AM</td>\n",
       "      <td>M</td>\n",
       "      <td>Umphrey, Duncan</td>\n",
       "      <td>1</td>\n",
       "      <td>12/30/1899 3:23:44 AM</td>\n",
       "      <td>5444</td>\n",
       "      <td>12/30/1899 12:07:47 AM</td>\n",
       "      <td>MA</td>\n",
       "    </tr>\n",
       "    <tr>\n",
       "      <th>15919</th>\n",
       "      <td>12/30/1899 1:00:41 AM</td>\n",
       "      <td>12/30/1899 1:28:12 AM</td>\n",
       "      <td>12/30/1899 1:56:29 AM</td>\n",
       "      <td>12/30/1899 2:24:39 AM</td>\n",
       "      <td>12/30/1899 2:53:27 AM</td>\n",
       "      <td>12/30/1899 3:22:06 AM</td>\n",
       "      <td>12/30/1899 3:49:29 AM</td>\n",
       "      <td>12/30/1899 12:32:53 AM</td>\n",
       "      <td>18</td>\n",
       "      <td>15125.0</td>\n",
       "      <td>...</td>\n",
       "      <td>3576</td>\n",
       "      <td>6057</td>\n",
       "      <td>12/30/1899 2:02:35 AM</td>\n",
       "      <td>F</td>\n",
       "      <td>Rucker, Alyssa</td>\n",
       "      <td>1</td>\n",
       "      <td>12/30/1899 4:01:22 AM</td>\n",
       "      <td>15921</td>\n",
       "      <td>12/30/1899 12:09:13 AM</td>\n",
       "      <td>NC</td>\n",
       "    </tr>\n",
       "    <tr>\n",
       "      <th>...</th>\n",
       "      <td>...</td>\n",
       "      <td>...</td>\n",
       "      <td>...</td>\n",
       "      <td>...</td>\n",
       "      <td>...</td>\n",
       "      <td>...</td>\n",
       "      <td>...</td>\n",
       "      <td>...</td>\n",
       "      <td>...</td>\n",
       "      <td>...</td>\n",
       "      <td>...</td>\n",
       "      <td>...</td>\n",
       "      <td>...</td>\n",
       "      <td>...</td>\n",
       "      <td>...</td>\n",
       "      <td>...</td>\n",
       "      <td>...</td>\n",
       "      <td>...</td>\n",
       "      <td>...</td>\n",
       "      <td>...</td>\n",
       "      <td>...</td>\n",
       "    </tr>\n",
       "    <tr>\n",
       "      <th>21363</th>\n",
       "      <td>12/30/1899 1:00:44 AM</td>\n",
       "      <td>12/30/1899 1:32:17 AM</td>\n",
       "      <td>12/30/1899 2:05:41 AM</td>\n",
       "      <td>12/30/1899 2:40:17 AM</td>\n",
       "      <td>12/30/1899 3:13:39 AM</td>\n",
       "      <td>12/30/1899 3:47:13 AM</td>\n",
       "      <td>12/30/1899 4:19:22 AM</td>\n",
       "      <td>12/30/1899 12:29:28 AM</td>\n",
       "      <td>80</td>\n",
       "      <td>25095.0</td>\n",
       "      <td>...</td>\n",
       "      <td>2</td>\n",
       "      <td>12170</td>\n",
       "      <td>12/30/1899 2:12:45 AM</td>\n",
       "      <td>M</td>\n",
       "      <td>Miller, Gerald W</td>\n",
       "      <td>1</td>\n",
       "      <td>12/30/1899 4:32:54 AM</td>\n",
       "      <td>21365</td>\n",
       "      <td>12/30/1899 12:10:25 AM</td>\n",
       "      <td>AB</td>\n",
       "    </tr>\n",
       "    <tr>\n",
       "      <th>21983</th>\n",
       "      <td>12/30/1899 1:01:15 AM</td>\n",
       "      <td>12/30/1899 1:32:03 AM</td>\n",
       "      <td>12/30/1899 2:04:14 AM</td>\n",
       "      <td>12/30/1899 2:37:57 AM</td>\n",
       "      <td>12/30/1899 3:12:44 AM</td>\n",
       "      <td>12/30/1899 3:49:06 AM</td>\n",
       "      <td>12/30/1899 4:23:05 AM</td>\n",
       "      <td>12/30/1899 12:30:30 AM</td>\n",
       "      <td>81</td>\n",
       "      <td>25123.0</td>\n",
       "      <td>...</td>\n",
       "      <td>3</td>\n",
       "      <td>12462</td>\n",
       "      <td>12/30/1899 2:11:08 AM</td>\n",
       "      <td>M</td>\n",
       "      <td>Shimojou, Michiharu</td>\n",
       "      <td>1</td>\n",
       "      <td>12/30/1899 4:38:11 AM</td>\n",
       "      <td>21985</td>\n",
       "      <td>12/30/1899 12:10:37 AM</td>\n",
       "      <td>NaN</td>\n",
       "    </tr>\n",
       "    <tr>\n",
       "      <th>25469</th>\n",
       "      <td>12/30/1899 1:00:46 AM</td>\n",
       "      <td>12/30/1899 1:33:42 AM</td>\n",
       "      <td>12/30/1899 2:06:08 AM</td>\n",
       "      <td>12/30/1899 2:41:02 AM</td>\n",
       "      <td>12/30/1899 3:22:55 AM</td>\n",
       "      <td>12/30/1899 4:10:04 AM</td>\n",
       "      <td>12/30/1899 5:03:05 AM</td>\n",
       "      <td>12/30/1899 12:29:09 AM</td>\n",
       "      <td>81</td>\n",
       "      <td>25110.0</td>\n",
       "      <td>...</td>\n",
       "      <td>6</td>\n",
       "      <td>14041</td>\n",
       "      <td>12/30/1899 2:13:23 AM</td>\n",
       "      <td>M</td>\n",
       "      <td>Roake, Samuel C.</td>\n",
       "      <td>1</td>\n",
       "      <td>12/30/1899 5:29:49 AM</td>\n",
       "      <td>25471</td>\n",
       "      <td>12/30/1899 12:12:35 AM</td>\n",
       "      <td>CA</td>\n",
       "    </tr>\n",
       "    <tr>\n",
       "      <th>22619</th>\n",
       "      <td>12/30/1899 12:57:36 AM</td>\n",
       "      <td>12/30/1899 1:27:21 AM</td>\n",
       "      <td>12/30/1899 1:59:56 AM</td>\n",
       "      <td>12/30/1899 2:34:36 AM</td>\n",
       "      <td>12/30/1899 3:11:06 AM</td>\n",
       "      <td>12/30/1899 3:49:05 AM</td>\n",
       "      <td>12/30/1899 4:27:33 AM</td>\n",
       "      <td>12/30/1899 12:28:30 AM</td>\n",
       "      <td>83</td>\n",
       "      <td>25134.0</td>\n",
       "      <td>...</td>\n",
       "      <td>4</td>\n",
       "      <td>12748</td>\n",
       "      <td>12/30/1899 2:07:10 AM</td>\n",
       "      <td>M</td>\n",
       "      <td>Yoo, Jack</td>\n",
       "      <td>1</td>\n",
       "      <td>12/30/1899 4:44:39 AM</td>\n",
       "      <td>22621</td>\n",
       "      <td>12/30/1899 12:10:52 AM</td>\n",
       "      <td>IL</td>\n",
       "    </tr>\n",
       "    <tr>\n",
       "      <th>26340</th>\n",
       "      <td>12/30/1899 1:17:26 AM</td>\n",
       "      <td>12/30/1899 1:59:14 AM</td>\n",
       "      <td>12/30/1899 2:42:00 AM</td>\n",
       "      <td>12/30/1899 3:25:20 AM</td>\n",
       "      <td>12/30/1899 4:12:04 AM</td>\n",
       "      <td>12/30/1899 4:58:00 AM</td>\n",
       "      <td>12/30/1899 5:43:44 AM</td>\n",
       "      <td>12/30/1899 12:36:41 AM</td>\n",
       "      <td>84</td>\n",
       "      <td>25269.0</td>\n",
       "      <td>...</td>\n",
       "      <td>1</td>\n",
       "      <td>11942</td>\n",
       "      <td>12/30/1899 2:51:22 AM</td>\n",
       "      <td>F</td>\n",
       "      <td>Beiers, Katherine</td>\n",
       "      <td>1</td>\n",
       "      <td>12/30/1899 6:04:07 AM</td>\n",
       "      <td>26342</td>\n",
       "      <td>12/30/1899 12:13:54 AM</td>\n",
       "      <td>CA</td>\n",
       "    </tr>\n",
       "  </tbody>\n",
       "</table>\n",
       "<p>26410 rows × 26 columns</p>\n",
       "</div>"
      ],
      "text/plain": [
       "                          10K                    15K                    20K  \\\n",
       "17735  12/30/1899 12:59:53 AM  12/30/1899 1:28:11 AM  12/30/1899 1:57:49 AM   \n",
       "22938   12/30/1899 1:05:00 AM  12/30/1899 1:37:15 AM  12/30/1899 2:09:43 AM   \n",
       "4735   12/30/1899 12:40:00 AM  12/30/1899 1:02:27 AM  12/30/1899 1:25:33 AM   \n",
       "5443   12/30/1899 12:47:10 AM  12/30/1899 1:11:18 AM  12/30/1899 1:34:48 AM   \n",
       "15919   12/30/1899 1:00:41 AM  12/30/1899 1:28:12 AM  12/30/1899 1:56:29 AM   \n",
       "...                       ...                    ...                    ...   \n",
       "21363   12/30/1899 1:00:44 AM  12/30/1899 1:32:17 AM  12/30/1899 2:05:41 AM   \n",
       "21983   12/30/1899 1:01:15 AM  12/30/1899 1:32:03 AM  12/30/1899 2:04:14 AM   \n",
       "25469   12/30/1899 1:00:46 AM  12/30/1899 1:33:42 AM  12/30/1899 2:06:08 AM   \n",
       "22619  12/30/1899 12:57:36 AM  12/30/1899 1:27:21 AM  12/30/1899 1:59:56 AM   \n",
       "26340   12/30/1899 1:17:26 AM  12/30/1899 1:59:14 AM  12/30/1899 2:42:00 AM   \n",
       "\n",
       "                         25K                    30K                    35K  \\\n",
       "17735  12/30/1899 2:26:58 AM  12/30/1899 2:56:59 AM  12/30/1899 3:27:37 AM   \n",
       "22938  12/30/1899 2:42:12 AM  12/30/1899 3:17:28 AM  12/30/1899 3:54:05 AM   \n",
       "4735   12/30/1899 1:48:11 AM  12/30/1899 2:12:15 AM  12/30/1899 2:38:13 AM   \n",
       "5443   12/30/1899 1:58:19 AM  12/30/1899 2:23:26 AM  12/30/1899 2:48:35 AM   \n",
       "15919  12/30/1899 2:24:39 AM  12/30/1899 2:53:27 AM  12/30/1899 3:22:06 AM   \n",
       "...                      ...                    ...                    ...   \n",
       "21363  12/30/1899 2:40:17 AM  12/30/1899 3:13:39 AM  12/30/1899 3:47:13 AM   \n",
       "21983  12/30/1899 2:37:57 AM  12/30/1899 3:12:44 AM  12/30/1899 3:49:06 AM   \n",
       "25469  12/30/1899 2:41:02 AM  12/30/1899 3:22:55 AM  12/30/1899 4:10:04 AM   \n",
       "22619  12/30/1899 2:34:36 AM  12/30/1899 3:11:06 AM  12/30/1899 3:49:05 AM   \n",
       "26340  12/30/1899 3:25:20 AM  12/30/1899 4:12:04 AM  12/30/1899 4:58:00 AM   \n",
       "\n",
       "                         40K                      5K  Age      Bib  ...  \\\n",
       "17735  12/30/1899 3:57:28 AM  12/30/1899 12:30:25 AM   18  26356.0  ...   \n",
       "22938  12/30/1899 4:31:57 AM  12/30/1899 12:32:44 AM   18  28542.0  ...   \n",
       "4735   12/30/1899 3:07:00 AM  12/30/1899 12:20:00 AM   18   4496.0  ...   \n",
       "5443   12/30/1899 3:13:12 AM  12/30/1899 12:23:39 AM   18  27556.0  ...   \n",
       "15919  12/30/1899 3:49:29 AM  12/30/1899 12:32:53 AM   18  15125.0  ...   \n",
       "...                      ...                     ...  ...      ...  ...   \n",
       "21363  12/30/1899 4:19:22 AM  12/30/1899 12:29:28 AM   80  25095.0  ...   \n",
       "21983  12/30/1899 4:23:05 AM  12/30/1899 12:30:30 AM   81  25123.0  ...   \n",
       "25469  12/30/1899 5:03:05 AM  12/30/1899 12:29:09 AM   81  25110.0  ...   \n",
       "22619  12/30/1899 4:27:33 AM  12/30/1899 12:28:30 AM   83  25134.0  ...   \n",
       "26340  12/30/1899 5:43:44 AM  12/30/1899 12:36:41 AM   84  25269.0  ...   \n",
       "\n",
       "       Division Gender                   Half  M/F                 Name  \\\n",
       "17735      3841  10628  12/30/1899 2:04:00 AM    M      Fried, Lucas A.   \n",
       "22938      4939  10047  12/30/1899 2:16:44 AM    F     Blake, Meghan E.   \n",
       "4735       2342   4062  12/30/1899 1:30:22 AM    M        Moore, Ryan D   \n",
       "5443       2493   4567  12/30/1899 1:39:59 AM    M      Umphrey, Duncan   \n",
       "15919      3576   6057  12/30/1899 2:02:35 AM    F       Rucker, Alyssa   \n",
       "...         ...    ...                    ...  ...                  ...   \n",
       "21363         2  12170  12/30/1899 2:12:45 AM    M     Miller, Gerald W   \n",
       "21983         3  12462  12/30/1899 2:11:08 AM    M  Shimojou, Michiharu   \n",
       "25469         6  14041  12/30/1899 2:13:23 AM    M     Roake, Samuel C.   \n",
       "22619         4  12748  12/30/1899 2:07:10 AM    M            Yoo, Jack   \n",
       "26340         1  11942  12/30/1899 2:51:22 AM    F    Beiers, Katherine   \n",
       "\n",
       "      Number of Records          Official Time  Overall  \\\n",
       "17735                 1  12/30/1899 4:10:23 AM    17737   \n",
       "22938                 1  12/30/1899 4:47:48 AM    22940   \n",
       "4735                  1  12/30/1899 3:20:23 AM     4736   \n",
       "5443                  1  12/30/1899 3:23:44 AM     5444   \n",
       "15919                 1  12/30/1899 4:01:22 AM    15921   \n",
       "...                 ...                    ...      ...   \n",
       "21363                 1  12/30/1899 4:32:54 AM    21365   \n",
       "21983                 1  12/30/1899 4:38:11 AM    21985   \n",
       "25469                 1  12/30/1899 5:29:49 AM    25471   \n",
       "22619                 1  12/30/1899 4:44:39 AM    22621   \n",
       "26340                 1  12/30/1899 6:04:07 AM    26342   \n",
       "\n",
       "                         Pace State  \n",
       "17735  12/30/1899 12:09:33 AM    MA  \n",
       "22938  12/30/1899 12:10:59 AM    MA  \n",
       "4735   12/30/1899 12:07:39 AM    WA  \n",
       "5443   12/30/1899 12:07:47 AM    MA  \n",
       "15919  12/30/1899 12:09:13 AM    NC  \n",
       "...                       ...   ...  \n",
       "21363  12/30/1899 12:10:25 AM    AB  \n",
       "21983  12/30/1899 12:10:37 AM   NaN  \n",
       "25469  12/30/1899 12:12:35 AM    CA  \n",
       "22619  12/30/1899 12:10:52 AM    IL  \n",
       "26340  12/30/1899 12:13:54 AM    CA  \n",
       "\n",
       "[26410 rows x 26 columns]"
      ]
     },
     "execution_count": 47,
     "metadata": {},
     "output_type": "execute_result"
    }
   ],
   "source": [
    "# Sort based on many labels, with left-to-right priority\n",
    "# sorted_data = data.sort_values('ages').reset_index()\n",
    "\n",
    "# DataFrame.sort_values('key')\n",
    "df.sort_values('Age')\n"
   ]
  },
  {
   "cell_type": "markdown",
   "metadata": {},
   "source": [
    "##### .columns"
   ]
  },
  {
   "cell_type": "code",
   "execution_count": 51,
   "metadata": {},
   "outputs": [
    {
     "name": "stdout",
     "output_type": "stream",
     "text": [
      "Column headers: Index(['10K', '15K', '20K', '25K', '30K', '35K', '40K', '5K', 'Age', 'Bib',\n",
      "       'Overall Time in Seconds', 'Citizenship', 'Male Average Times',\n",
      "       'Females Average Times', 'City', 'Country', 'Division', 'Gender',\n",
      "       'Half', 'M/F', 'Name', 'Number of Records', 'Official Time', 'Overall',\n",
      "       'Pace', 'State'],\n",
      "      dtype='object')\n"
     ]
    }
   ],
   "source": [
    "# will show all cols headers\n",
    "# DataFrame.columns -- has no parameters\n",
    "\n",
    "\n",
    "# Keys brings back the 'index' of whatever data type we are working with \n",
    "# Getting the Index object from DataFrame\n",
    "column_headers = df.columns\n",
    "print(\"Column headers:\", column_headers)\n"
   ]
  },
  {
   "cell_type": "markdown",
   "metadata": {},
   "source": [
    "### In-Class Exercise #2 - Describe & Sort Boston Red Sox Hitting Data <br>\n",
    "<p>Take the data that you read in earlier from the Red Sox csv's and use the describe method to understand the data better. Compare the two years and decide which team is having the better year. Then sort the values based on Batting Average.</p>"
   ]
  },
  {
   "cell_type": "code",
   "execution_count": null,
   "metadata": {},
   "outputs": [],
   "source": [
    "file_path = ''\n",
    "\n",
    "df = pd.read_csv(file_path)\n",
    "\n",
    "print(df.head())"
   ]
  },
  {
   "cell_type": "markdown",
   "metadata": {},
   "source": [
    "### Filtration <br>\n",
    "<p>Let's look at how to filter dataframes for rows that fulfill a specific conditon.</p>"
   ]
  },
  {
   "cell_type": "markdown",
   "metadata": {},
   "source": [
    "##### Conditionals"
   ]
  },
  {
   "cell_type": "code",
   "execution_count": 7,
   "metadata": {},
   "outputs": [],
   "source": [
    "data = {\n",
    "    'Name': ['John', 'Alice', 'Bob', 'Emma', 'Sam'],\n",
    "    'Age': [28, 24, 35, 30, 40],\n",
    "    'Salary': [50000, 60000, 45000, 70000, 55000]\n",
    "}\n",
    "\n",
    "df = pd.DataFrame(data)\n",
    "filtered_df = df[df['Age'] > 30]\n"
   ]
  },
  {
   "cell_type": "markdown",
   "metadata": {},
   "source": [
    "##### Subsetting"
   ]
  },
  {
   "cell_type": "code",
   "execution_count": 8,
   "metadata": {},
   "outputs": [],
   "source": [
    "\n",
    "subset_df = df[['Name', 'Salary']]\n",
    "\n"
   ]
  },
  {
   "cell_type": "markdown",
   "metadata": {},
   "source": [
    "### Column Transformations <br>\n",
    "<p>Rarely, if ever, will the columns in the original raw dataframe read from CSV or database table be the ones you actually need for your analysis. You will spend lots of time constantly transforming columns or groups of columns using general computational operations to produce new ones that are functions of the old ones. Pandas has full support for this: Consider the following dataframe containing membership term and renewal number for a group of customers:</p>"
   ]
  },
  {
   "cell_type": "code",
   "execution_count": 13,
   "metadata": {},
   "outputs": [
    {
     "name": "stdout",
     "output_type": "stream",
     "text": [
      "   CustomerID  MembershipTerm  RenewalNumber  TotalDuration\n",
      "0           1              12              1             12\n",
      "1           2              24              2             48\n",
      "2           3              36              1             36\n",
      "3           4              12              3             36\n",
      "4           5              24              4             96\n"
     ]
    }
   ],
   "source": [
    "data = {\n",
    "    'CustomerID': [1, 2, 3, 4, 5],\n",
    "    'MembershipTerm': [12, 24, 36, 12, 24],  # in months\n",
    "    'RenewalNumber': [1, 2, 1, 3, 4]          # number of times renewed\n",
    "}\n",
    "\n",
    "df = pd.DataFrame(data)\n",
    "df['TotalDuration'] = df['MembershipTerm'] * df['RenewalNumber']\n",
    "print(df)"
   ]
  },
  {
   "cell_type": "markdown",
   "metadata": {},
   "source": [
    "##### Generating a New Column w/Data"
   ]
  },
  {
   "cell_type": "code",
   "execution_count": 16,
   "metadata": {},
   "outputs": [
    {
     "name": "stdout",
     "output_type": "stream",
     "text": [
      "   CustomerID  MembershipTerm  RenewalNumber  TotalDuration  IsLongTerm\n",
      "0           1              12              1             12       False\n",
      "1           2              24              2             48        True\n",
      "2           3              36              1             36       False\n",
      "3           4              12              3             36       False\n",
      "4           5              24              4             96        True\n"
     ]
    }
   ],
   "source": [
    "# DataFrame['key'] = Some Calculation from our DataFrame Columns\n",
    "df['IsLongTerm'] = df['TotalDuration'] > 36\n",
    "print(df)\n"
   ]
  },
  {
   "cell_type": "markdown",
   "metadata": {},
   "source": [
    "##### User Defined Function\n",
    "\n",
    "<p>If what you want to do to a column that can't be represented by simple mathematical operations, you can write your own $\\textit{user defined function}$ with the full customizability available in Python and any external Python packages, then map it directly onto a column. Let's add some ages to our customer dataframe, and then classify them into our custom defined grouping scheme:</p>"
   ]
  },
  {
   "cell_type": "code",
   "execution_count": 19,
   "metadata": {
    "scrolled": true
   },
   "outputs": [
    {
     "name": "stdout",
     "output_type": "stream",
     "text": [
      "   CustomerID  MembershipTerm  RenewalNumber  Age     AgeGroup\n",
      "0           1              12              1   41  Middle-Aged\n",
      "1           2              24              2   23  Young Adult\n",
      "2           3              36              1   19  Young Adult\n",
      "3           4              12              3   27  Young Adult\n",
      "4           5              24              4   58       Senior\n"
     ]
    }
   ],
   "source": [
    "# use .apply to map over dataframe\n",
    "\n",
    "# Create a new column for ages\n",
    "import pandas as pd\n",
    "import numpy as np\n",
    "\n",
    "# Sample DataFrame\n",
    "data = {\n",
    "    'CustomerID': [1, 2, 3, 4, 5],\n",
    "    'MembershipTerm': [12, 24, 36, 12, 24],  \n",
    "    'RenewalNumber': [1, 2, 1, 3, 4]         \n",
    "}\n",
    "\n",
    "df = pd.DataFrame(data)\n",
    "\n",
    "\n",
    "df['Age'] = np.random.randint(18, 70, size=len(df))\n",
    "\n",
    "# customers['ages'] = np.random.randint(18,70,10)\n",
    "\n",
    "# User defined function\n",
    "def make_age_groups(age):\n",
    "    if age < 30:\n",
    "        return 'Young Adult'\n",
    "    elif 30 <= age < 50:\n",
    "        return 'Middle-Aged'\n",
    "    else:\n",
    "        return 'Senior'\n",
    "\n",
    "df['AgeGroup'] = df['Age'].apply(make_age_groups)\n",
    " \n",
    "# print(make_age_groups)\n",
    "print(df)"
   ]
  },
  {
   "cell_type": "markdown",
   "metadata": {},
   "source": [
    "<p>As a last example I'll show here how you would use a lambda function to create a UDF that depends on $\\textit{more than one}$ column:</p>\n",
    "\n",
    "<li>UDF = User Defined Function</li>"
   ]
  },
  {
   "cell_type": "code",
   "execution_count": 23,
   "metadata": {},
   "outputs": [
    {
     "name": "stdout",
     "output_type": "stream",
     "text": [
      "   CustomerID  MembershipTerm  RenewalNumber  Age  TotalDuration  \\\n",
      "0           1              12              1   67             12   \n",
      "1           2              24              2   63             48   \n",
      "2           3              36              1   64             36   \n",
      "3           4              12              3   57             36   \n",
      "4           5              24              4   43             96   \n",
      "\n",
      "   CustomerCategory  \n",
      "0             Other  \n",
      "1  Senior Long-Term  \n",
      "2             Other  \n",
      "3             Other  \n",
      "4             Other  \n"
     ]
    }
   ],
   "source": [
    "#Axis for apply can only be 1 or 0 -- 1 being the X axis 0 being the Y axis\n",
    "import pandas as pd\n",
    "import numpy as np\n",
    "\n",
    "\n",
    "data = {\n",
    "    'CustomerID': [1, 2, 3, 4, 5],\n",
    "    'MembershipTerm': [12, 24, 36, 12, 24],  \n",
    "    'RenewalNumber': [1, 2, 1, 3, 4],       \n",
    "    'Age': np.random.randint(18, 70, size=5)\n",
    "}\n",
    "\n",
    "df = pd.DataFrame(data)\n",
    "\n",
    "\n",
    "df['TotalDuration'] = df['MembershipTerm'] * df['RenewalNumber']\n",
    "\n",
    "\n",
    "df['CustomerCategory'] = df.apply(\n",
    "    lambda row: (\n",
    "        'Young Long-Term' if row['Age'] < 30 and row['TotalDuration'] > 36 else\n",
    "        'Middle-Aged Short-Term' if 30 <= row['Age'] < 50 and row['TotalDuration'] <= 36 else\n",
    "        'Senior Long-Term' if row['Age'] >= 50 and row['TotalDuration'] > 36 else\n",
    "        'Other'\n",
    "    ),\n",
    "    axis=1\n",
    ")\n",
    "print(df)"
   ]
  },
  {
   "cell_type": "markdown",
   "metadata": {},
   "source": [
    "### In-Class Exercise #3 - Create Your Own UDF <br>\n",
    "<p>Using the Boston Red Sox data, create your own UDF which creates a new column called 'All-Star' and puts every player with either a batting average over .280 or an on base percentage of over .360 with a result of 'Yes' in the column and 'No' if not.</p>"
   ]
  },
  {
   "cell_type": "code",
   "execution_count": 29,
   "metadata": {},
   "outputs": [
    {
     "name": "stdout",
     "output_type": "stream",
     "text": [
      "                  Name     BA    OBP All-Star\n",
      "0           Sandy Leon  0.177  0.232       No\n",
      "1       Mitch Moreland  0.245  0.325       No\n",
      "2        Eduardo Nunez  0.265  0.289       No\n",
      "3      Xander Bogaerts  0.288  0.360      Yes\n",
      "4        Rafael Devers  0.240  0.298       No\n",
      "5    Andrew Benintendi  0.290  0.366      Yes\n",
      "6   Jackie Bradley Jr.  0.234  0.314       No\n",
      "7         Mookie Betts  0.346  0.438      Yes\n",
      "8        J.D. Martinez  0.330  0.402      Yes\n",
      "9           Brock Holt  0.277  0.362      Yes\n",
      "10   Christian Vazquez  0.207  0.257       No\n",
      "11       Blake Swihart  0.229  0.285       No\n",
      "12      Hanley Ramirez  0.254  0.313       No\n",
      "13        Steve Pearce  0.279  0.394      Yes\n",
      "14         Ian Kinsler  0.242  0.294       No\n",
      "15         Tzu-Wei Lin  0.246  0.329       No\n",
      "16          Sam Travis  0.222  0.263       No\n",
      "17    Brandon Phillips  0.130  0.259       No\n",
      "18      Dustin Pedroia  0.091  0.231       No\n",
      "19          Dan Butler  0.167  0.143       No\n"
     ]
    }
   ],
   "source": [
    "\"\"\"\n",
    "    Name  BA OBP AllStar\n",
    "    --------------------\n",
    "    Name .233 .360 Yes\n",
    "    Name .150 .288 No\n",
    "\"\"\"\n",
    "import pandas as pd\n",
    "\n",
    "\n",
    "file_path = r\"C:\\Users\\Zaur\\OneDrive\\Desktop\\Disk\\2023Nazrin\\Bootcamp_coding temple\\Python Advanced\\Python advanced_task\\Numpy\\redsox_2018.txt\"\n",
    "df = pd.read_csv(file_path)\n",
    "\n",
    "\n",
    "def classify_all_star(row):\n",
    "    if row['BA'] > 0.280 or row['OBP'] > 0.360:\n",
    "        return 'Yes'\n",
    "    else:\n",
    "        return 'No'\n",
    "\n",
    "\n",
    "df['All-Star'] = df.apply(classify_all_star, axis=1)\n",
    "\n",
    "\n",
    "print(df[['Name', 'BA', 'OBP', 'All-Star']])\n"
   ]
  },
  {
   "cell_type": "markdown",
   "metadata": {},
   "source": [
    "### Aggregations <br>\n",
    "<p>The raw data plus some transformations is generally only half the story. Your objective is to extract actual insights and actionable conclusions from the data, and that means reducing it from potentially billions of rows to some summary statistics via aggregation functions.</p>"
   ]
  },
  {
   "cell_type": "markdown",
   "metadata": {},
   "source": [
    "##### groupby() <br>\n",
    "<p>The .groupby() function is in some ways a 'master' aggregation.</p> \n",
    "\n",
    "<p>Data tables will usually reserve one column as a primary key - that is, a column for which each row has a unique value. This is to facilitate access to the exact rows of a data table that a user wants to view. The other columns will often have repeated values, such as the age groups in the above examples. We can use these columns to explore the data using the Pandas API:</p>"
   ]
  },
  {
   "cell_type": "code",
   "execution_count": 35,
   "metadata": {},
   "outputs": [
    {
     "name": "stdout",
     "output_type": "stream",
     "text": [
      "   CustomerID     AgeGroup\n",
      "0           2  Middle-Aged\n",
      "1           2       Senior\n",
      "2           3        Young\n"
     ]
    }
   ],
   "source": [
    "# also introducing .count() here, exact same as to how it's used in SQL\n",
    "\n",
    "# Using the groupby with the column intact as a column/key\n",
    "# customers.groupby('age_group', as_index = False).count()[['customer_id','age_group']]\n",
    "\n",
    "import pandas as pd\n",
    "\n",
    "# Example DataFrame\n",
    "data = {\n",
    "    'CustomerID': [1, 2, 3, 4, 5, 6, 7],\n",
    "    'AgeGroup': ['Young', 'Young', 'Middle-Aged', 'Middle-Aged', 'Senior', 'Senior', 'Young'],\n",
    "    'PurchaseAmount': [100, 150, 200, 250, 300, 350, 400]\n",
    "}\n",
    "\n",
    "df = pd.DataFrame(data)\n",
    "grouped_counts = df.groupby('AgeGroup', as_index=False).count()[['CustomerID', 'AgeGroup']]\n",
    "print(grouped_counts)\n",
    "\n",
    "\n"
   ]
  },
  {
   "cell_type": "markdown",
   "metadata": {},
   "source": [
    "##### Type of groupby()\n",
    "\n",
    "<p>The result is a new dataframe, the columns of which all contain the counts of the grouped field. Notice the type of a grouped dataframe:</p>"
   ]
  },
  {
   "cell_type": "code",
   "execution_count": 37,
   "metadata": {},
   "outputs": [
    {
     "name": "stdout",
     "output_type": "stream",
     "text": [
      "<class 'pandas.core.frame.DataFrame'>\n"
     ]
    }
   ],
   "source": [
    "\n",
    "print(type(grouped_counts))"
   ]
  },
  {
   "cell_type": "markdown",
   "metadata": {},
   "source": [
    "<p>This is because simply grouping data doesn't quite make sense without an aggregation function like count() to pair with. In this case, we're counting occurances of the grouped field, but that's not all we can do. We can take averages, standard deviations, mins, maxes and much more! Let's see how this works a bit more:</p>"
   ]
  },
  {
   "cell_type": "markdown",
   "metadata": {},
   "source": [
    "##### mean()"
   ]
  },
  {
   "cell_type": "code",
   "execution_count": 38,
   "metadata": {},
   "outputs": [
    {
     "name": "stdout",
     "output_type": "stream",
     "text": [
      "      AgeGroup  PurchaseAmount\n",
      "0  Middle-Aged      225.000000\n",
      "1       Senior      325.000000\n",
      "2        Young      216.666667\n"
     ]
    }
   ],
   "source": [
    "grouped_mean = df.groupby('AgeGroup', as_index=False)['PurchaseAmount'].mean()\n",
    "print(grouped_mean)\n",
    "\n",
    "\n"
   ]
  },
  {
   "cell_type": "markdown",
   "metadata": {},
   "source": [
    "##### groupby() w/Multiple Columns\n",
    "\n",
    "<p>We end up with the average age of the groups in the last column, the average tenure in the tenure column, and so on and so forth. You can even split the groups more finely by passing a list of columns to group by:</p>"
   ]
  },
  {
   "cell_type": "code",
   "execution_count": 40,
   "metadata": {},
   "outputs": [
    {
     "name": "stdout",
     "output_type": "stream",
     "text": [
      "      AgeGroup CustomerType  CustomerID   Age  Tenure\n",
      "0  Middle-Aged      Premium         4.0  50.0     5.0\n",
      "1  Middle-Aged      Regular         3.0  45.0     4.0\n",
      "2       Senior      Premium         6.0  70.0     7.0\n",
      "3       Senior      Regular         5.0  65.0     6.0\n",
      "4        Young      Premium         2.0  30.0     3.0\n",
      "5        Young      Regular         4.0  26.5     1.5\n"
     ]
    }
   ],
   "source": [
    "data = {\n",
    "    'CustomerID': [1, 2, 3, 4, 5, 6, 7],\n",
    "    'AgeGroup': ['Young', 'Young', 'Middle-Aged', 'Middle-Aged', 'Senior', 'Senior', 'Young'],\n",
    "    'CustomerType': ['Regular', 'Premium', 'Regular', 'Premium', 'Regular', 'Premium', 'Regular'],\n",
    "    'Age': [25, 30, 45, 50, 65, 70, 28],\n",
    "    'Tenure': [2, 3, 4, 5, 6, 7, 1]\n",
    "}\n",
    "\n",
    "df = pd.DataFrame(data)\n",
    "grouped_mean = df.groupby(['AgeGroup', 'CustomerType'], as_index=False).mean()\n",
    "print(grouped_mean)\n"
   ]
  },
  {
   "cell_type": "markdown",
   "metadata": {},
   "source": [
    "##### drop_duplicates()\n",
    "\n",
    "<p>Drops all duplicates from the current dataframe</p>"
   ]
  },
  {
   "cell_type": "code",
   "execution_count": 41,
   "metadata": {},
   "outputs": [
    {
     "data": {
      "text/html": [
       "<div>\n",
       "<style scoped>\n",
       "    .dataframe tbody tr th:only-of-type {\n",
       "        vertical-align: middle;\n",
       "    }\n",
       "\n",
       "    .dataframe tbody tr th {\n",
       "        vertical-align: top;\n",
       "    }\n",
       "\n",
       "    .dataframe thead th {\n",
       "        text-align: right;\n",
       "    }\n",
       "</style>\n",
       "<table border=\"1\" class=\"dataframe\">\n",
       "  <thead>\n",
       "    <tr style=\"text-align: right;\">\n",
       "      <th></th>\n",
       "      <th>CustomerID</th>\n",
       "      <th>AgeGroup</th>\n",
       "      <th>CustomerType</th>\n",
       "      <th>Age</th>\n",
       "      <th>Tenure</th>\n",
       "    </tr>\n",
       "  </thead>\n",
       "  <tbody>\n",
       "    <tr>\n",
       "      <th>0</th>\n",
       "      <td>1</td>\n",
       "      <td>Young</td>\n",
       "      <td>Regular</td>\n",
       "      <td>25</td>\n",
       "      <td>2</td>\n",
       "    </tr>\n",
       "    <tr>\n",
       "      <th>1</th>\n",
       "      <td>2</td>\n",
       "      <td>Young</td>\n",
       "      <td>Premium</td>\n",
       "      <td>30</td>\n",
       "      <td>3</td>\n",
       "    </tr>\n",
       "    <tr>\n",
       "      <th>2</th>\n",
       "      <td>3</td>\n",
       "      <td>Middle-Aged</td>\n",
       "      <td>Regular</td>\n",
       "      <td>45</td>\n",
       "      <td>4</td>\n",
       "    </tr>\n",
       "    <tr>\n",
       "      <th>3</th>\n",
       "      <td>4</td>\n",
       "      <td>Middle-Aged</td>\n",
       "      <td>Premium</td>\n",
       "      <td>50</td>\n",
       "      <td>5</td>\n",
       "    </tr>\n",
       "    <tr>\n",
       "      <th>4</th>\n",
       "      <td>5</td>\n",
       "      <td>Senior</td>\n",
       "      <td>Regular</td>\n",
       "      <td>65</td>\n",
       "      <td>6</td>\n",
       "    </tr>\n",
       "    <tr>\n",
       "      <th>5</th>\n",
       "      <td>6</td>\n",
       "      <td>Senior</td>\n",
       "      <td>Premium</td>\n",
       "      <td>70</td>\n",
       "      <td>7</td>\n",
       "    </tr>\n",
       "    <tr>\n",
       "      <th>6</th>\n",
       "      <td>7</td>\n",
       "      <td>Young</td>\n",
       "      <td>Regular</td>\n",
       "      <td>28</td>\n",
       "      <td>1</td>\n",
       "    </tr>\n",
       "  </tbody>\n",
       "</table>\n",
       "</div>"
      ],
      "text/plain": [
       "   CustomerID     AgeGroup CustomerType  Age  Tenure\n",
       "0           1        Young      Regular   25       2\n",
       "1           2        Young      Premium   30       3\n",
       "2           3  Middle-Aged      Regular   45       4\n",
       "3           4  Middle-Aged      Premium   50       5\n",
       "4           5       Senior      Regular   65       6\n",
       "5           6       Senior      Premium   70       7\n",
       "6           7        Young      Regular   28       1"
      ]
     },
     "execution_count": 41,
     "metadata": {},
     "output_type": "execute_result"
    }
   ],
   "source": [
    "df.drop_duplicates(subset=None, keep='first', inplace=False)\n"
   ]
  },
  {
   "cell_type": "code",
   "execution_count": 42,
   "metadata": {
    "scrolled": true
   },
   "outputs": [
    {
     "name": "stdout",
     "output_type": "stream",
     "text": [
      "   CustomerID     AgeGroup CustomerType  Age  Tenure\n",
      "0           1        Young      Regular   25       2\n",
      "1           2        Young      Premium   30       3\n",
      "2           3  Middle-Aged      Regular   45       4\n",
      "3           4  Middle-Aged      Premium   50       5\n",
      "4           5       Senior      Regular   65       6\n",
      "5           6       Senior      Premium   70       7\n",
      "6           7        Young      Regular   28       1\n"
     ]
    }
   ],
   "source": [
    "df_no_duplicates = df.drop_duplicates()\n",
    "print(df_no_duplicates)\n"
   ]
  },
  {
   "cell_type": "code",
   "execution_count": 22,
   "metadata": {},
   "outputs": [],
   "source": [
    "\n"
   ]
  },
  {
   "cell_type": "markdown",
   "metadata": {},
   "source": [
    "<p>Thus the groupby operation allows you to rapidly make summary observations about the state of your entire dataset at flexible granularity. In one line above, we actually did something very complicated - that's the power of the dataframe. In fact, the process often consists of several iterative groupby operations, each revealing greater insight than the last - if you don't know where to start with a dataset, try a bunch of groupbys!</p>"
   ]
  },
  {
   "cell_type": "markdown",
   "metadata": {},
   "source": [
    "### Homework Excersise #1 - Find the Total Number of Runs and RBIs for the Red Sox <br>\n",
    "<p>Get total number of home runs and rbi's</p>"
   ]
  },
  {
   "cell_type": "code",
   "execution_count": 43,
   "metadata": {
    "scrolled": true
   },
   "outputs": [
    {
     "name": "stdout",
     "output_type": "stream",
     "text": [
      "2017 Totals:\n",
      "   Team  Year  Home Runs  RBIs\n",
      "0  BOS  2017         55   170 \n",
      "\n",
      "2018 Totals:\n",
      "   Team  Year  Home Runs  RBIs\n",
      "1  BOS  2018         55   180\n"
     ]
    },
    {
     "data": {
      "text/plain": [
       "'\\nTEAM    HR   RBI\\n----------------\\nBOS     144  538\\n'"
      ]
     },
     "execution_count": 43,
     "metadata": {},
     "output_type": "execute_result"
    }
   ],
   "source": [
    "# step 1: Add a new column with the key 'Team' and all column values should be 'BOS'\n",
    "import pandas as pd\n",
    "\n",
    "data = {\n",
    "    'Year': [2017, 2017, 2018, 2018],\n",
    "    'Player': ['Player1', 'Player2', 'Player1', 'Player2'],\n",
    "    'Home Runs': [30, 25, 35, 20],\n",
    "    'RBIs': [90, 80, 95, 85]\n",
    "}\n",
    "\n",
    "df = pd.DataFrame(data)\n",
    "df['Team'] = 'BOS'\n",
    "\n",
    "# step 2: Group by the 'Team' column and get total home runs and rbi's\n",
    "result = df.groupby(['Team', 'Year']).agg({'Home Runs': 'sum', 'RBIs': 'sum'}).reset_index()\n",
    "result_bos = result[result['Team'] == 'BOS']\n",
    "# Produce data for both 2017 and 2018 (ie print both seperated by a newline character \\n)\n",
    "print(\"2017 Totals:\\n\", result_bos[result_bos['Year'] == 2017], \"\\n\")\n",
    "print(\"2018 Totals:\\n\", result_bos[result_bos['Year'] == 2018])\n",
    "\n",
    "\n",
    "\"\"\"\n",
    "TEAM    HR   RBI\n",
    "----------------\n",
    "BOS     144  538\n",
    "\"\"\"\n"
   ]
  },
  {
   "cell_type": "markdown",
   "metadata": {},
   "source": [
    "## Find the average age of runners in the 2017 Boston Marathon"
   ]
  },
  {
   "cell_type": "code",
   "execution_count": 45,
   "metadata": {},
   "outputs": [
    {
     "name": "stdout",
     "output_type": "stream",
     "text": [
      "The average age of runners in the 2017 Boston Marathon is 42.59 years.\n"
     ]
    }
   ],
   "source": [
    "import pandas as pd\n",
    "file_path = r\"C:\\Users\\Zaur\\OneDrive\\Desktop\\Disk\\2023Nazrin\\Bootcamp_coding temple\\Python Advanced\\Python advanced_task\\Pandas_Homework1\\boston_marathon2017_edited - boston_marathon2017_edited (1).csv\"\n",
    "df = pd.read_csv(file_path)\n",
    "average_age = df['Age'].mean()\n",
    "\n",
    "print(f\"The average age of runners in the 2017 Boston Marathon is {average_age:.2f} years.\")"
   ]
  }
 ],
 "metadata": {
  "kernelspec": {
   "display_name": "Python 3 (ipykernel)",
   "language": "python",
   "name": "python3"
  },
  "language_info": {
   "codemirror_mode": {
    "name": "ipython",
    "version": 3
   },
   "file_extension": ".py",
   "mimetype": "text/x-python",
   "name": "python",
   "nbconvert_exporter": "python",
   "pygments_lexer": "ipython3",
   "version": "3.9.13"
  }
 },
 "nbformat": 4,
 "nbformat_minor": 2
}
